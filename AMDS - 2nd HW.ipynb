{
 "cells": [
  {
   "cell_type": "markdown",
   "metadata": {},
   "source": [
    "# Homework 2 - How do Taxis move in NYC?"
   ]
  },
  {
   "cell_type": "markdown",
   "metadata": {},
   "source": [
    "## Imported libraries"
   ]
  },
  {
   "cell_type": "code",
   "execution_count": 4,
   "metadata": {},
   "outputs": [],
   "source": [
    "import pandas as pd\n",
    "import seaborn as sns\n",
    "import numpy as np\n",
    "import random\n",
    "\n",
    "%matplotlib inline\n",
    "\n",
    "import matplotlib.pyplot as plt\n",
    "\n",
    "import our_functions as of\n",
    "\n",
    "import datetime"
   ]
  },
  {
   "cell_type": "markdown",
   "metadata": {},
   "source": [
    "At the beginning of your analysis, decide and clearly state what borough you consider for running the analysis: the borough of departure or the arrival one.\n",
    "\n",
    "\n",
    "# We chose the borough of departure"
   ]
  },
  {
   "cell_type": "markdown",
   "metadata": {},
   "source": [
    "# Exploratory Data Analysis"
   ]
  },
  {
   "cell_type": "markdown",
   "metadata": {},
   "source": [
    "## 1. [RQ1] In what period of the year Taxis are used more? "
   ]
  },
  {
   "cell_type": "code",
   "execution_count": 5,
   "metadata": {},
   "outputs": [],
   "source": [
    "df_names=['yellow_tripdata_2018-01.csv','yellow_tripdata_2018-02.csv',\n",
    "          'yellow_tripdata_2018-03.csv','yellow_tripdata_2018-04.csv',\n",
    "         'yellow_tripdata_2018-05.csv','yellow_tripdata_2018-06.csv']\n",
    "taxi_zone_lookup = pd.read_csv('data/taxi_zone_lookup.csv')"
   ]
  },
  {
   "cell_type": "markdown",
   "metadata": {},
   "source": [
    "##### just for Dusica's sad computer--> random sampling of 1mil rows for each .csv file (AKA each month) \n",
    "\n",
    "n = 8759874 #number of records in file\n",
    "s = 1000000 #desired sample size\n",
    "skip = sorted(random.sample(range(n),n-s))\n",
    "\n",
    "if 0 in skip:\n",
    "    skip.remove(0)\n",
    "    \n",
    "for i in df_names:\n",
    "    yellow_tripdata=pd.read_csv('data/'+str(i),skiprows=skip)\n",
    "    yellow_tripdata.to_csv(str(i))"
   ]
  },
  {
   "cell_type": "code",
   "execution_count": 6,
   "metadata": {},
   "outputs": [],
   "source": [
    "list_DataFrames=[]"
   ]
  },
  {
   "cell_type": "code",
   "execution_count": 4,
   "metadata": {},
   "outputs": [],
   "source": [
    "taxi_zone_lookup = pd.read_csv('data/taxi_zone_lookup.csv',usecols=['Borough','LocationID'])\n",
    "for i in df_names:\n",
    "    list_DataFrames.append(\n",
    "        pd.merge(pd.read_csv('data/'+str(i),usecols=['PULocationID','tpep_pickup_datetime'],parse_dates=['tpep_pickup_datetime'])\n",
    "                 ,taxi_zone_lookup, how=\"left\",left_on=\"PULocationID\",right_on=\"LocationID\"))"
   ]
  },
  {
   "cell_type": "code",
   "execution_count": 5,
   "metadata": {},
   "outputs": [],
   "source": [
    "#all_data=pd.concat(list_DataFrames)"
   ]
  },
  {
   "cell_type": "code",
   "execution_count": 6,
   "metadata": {},
   "outputs": [
    {
     "data": {
      "text/html": [
       "<div>\n",
       "<style>\n",
       "    .dataframe thead tr:only-child th {\n",
       "        text-align: right;\n",
       "    }\n",
       "\n",
       "    .dataframe thead th {\n",
       "        text-align: left;\n",
       "    }\n",
       "\n",
       "    .dataframe tbody tr th {\n",
       "        vertical-align: top;\n",
       "    }\n",
       "</style>\n",
       "<table border=\"1\" class=\"dataframe\">\n",
       "  <thead>\n",
       "    <tr style=\"text-align: right;\">\n",
       "      <th></th>\n",
       "      <th>tpep_pickup_datetime</th>\n",
       "      <th>PULocationID</th>\n",
       "      <th>LocationID</th>\n",
       "      <th>Borough</th>\n",
       "    </tr>\n",
       "  </thead>\n",
       "  <tbody>\n",
       "    <tr>\n",
       "      <th>0</th>\n",
       "      <td>2018-06-01 00:25:17</td>\n",
       "      <td>223</td>\n",
       "      <td>223</td>\n",
       "      <td>Queens</td>\n",
       "    </tr>\n",
       "    <tr>\n",
       "      <th>1</th>\n",
       "      <td>2018-06-01 00:39:42</td>\n",
       "      <td>141</td>\n",
       "      <td>141</td>\n",
       "      <td>Manhattan</td>\n",
       "    </tr>\n",
       "    <tr>\n",
       "      <th>2</th>\n",
       "      <td>2018-06-01 00:40:22</td>\n",
       "      <td>148</td>\n",
       "      <td>148</td>\n",
       "      <td>Manhattan</td>\n",
       "    </tr>\n",
       "    <tr>\n",
       "      <th>3</th>\n",
       "      <td>2018-06-01 00:26:26</td>\n",
       "      <td>114</td>\n",
       "      <td>114</td>\n",
       "      <td>Manhattan</td>\n",
       "    </tr>\n",
       "    <tr>\n",
       "      <th>4</th>\n",
       "      <td>2018-06-01 00:16:58</td>\n",
       "      <td>209</td>\n",
       "      <td>209</td>\n",
       "      <td>Manhattan</td>\n",
       "    </tr>\n",
       "  </tbody>\n",
       "</table>\n",
       "</div>"
      ],
      "text/plain": [
       "  tpep_pickup_datetime  PULocationID  LocationID    Borough\n",
       "0  2018-06-01 00:25:17           223         223     Queens\n",
       "1  2018-06-01 00:39:42           141         141  Manhattan\n",
       "2  2018-06-01 00:40:22           148         148  Manhattan\n",
       "3  2018-06-01 00:26:26           114         114  Manhattan\n",
       "4  2018-06-01 00:16:58           209         209  Manhattan"
      ]
     },
     "execution_count": 6,
     "metadata": {},
     "output_type": "execute_result"
    }
   ],
   "source": [
    "# Per esempio giugno\n",
    "list_DataFrames[5].head()"
   ]
  },
  {
   "cell_type": "code",
   "execution_count": 8,
   "metadata": {},
   "outputs": [],
   "source": [
    "#irregular_years=merged.tpep_pickup_datetime[[merged.tpep_pickup_datetime[i].year!=2018 for i in range(len(merged['tpep_pickup_datetime']))]]"
   ]
  },
  {
   "cell_type": "code",
   "execution_count": 11,
   "metadata": {},
   "outputs": [],
   "source": [
    "def plotEachMonthAverageDailuUsageOfTaxiCabs():\n",
    "    for df in list_DataFrames:\n",
    "        df['day'] = df[\"tpep_pickup_datetime\"].apply(lambda df : df.day)\n",
    "        average_number_of_rides=df.loc[:,['day','PULocationID']].groupby('day').count()\n",
    "        average_number_of_rides.plot(subplots=True, figsize=(6, 6))"
   ]
  },
  {
   "cell_type": "code",
   "execution_count": 12,
   "metadata": {},
   "outputs": [
    {
     "data": {
      "image/png": "[encoded data removed]",
      "text/plain": [
       "<matplotlib.figure.Figure at 0xe86dab0>"
      ]
     },
     "metadata": {},
     "output_type": "display_data"
    },
    {
     "data": {
      "image/png": "[encoded data removed]",
      "text/plain": [
       "<matplotlib.figure.Figure at 0xe860a70>"
      ]
     },
     "metadata": {},
     "output_type": "display_data"
    },
    {
     "data": {
      "image/png": "[encoded data removed]",
      "text/plain": [
       "<matplotlib.figure.Figure at 0x1092eb50>"
      ]
     },
     "metadata": {},
     "output_type": "display_data"
    },
    {
     "data": {
      "image/png": "[encoded data removed]",
      "text/plain": [
       "<matplotlib.figure.Figure at 0xed53f10>"
      ]
     },
     "metadata": {},
     "output_type": "display_data"
    },
    {
     "data": {
      "image/png": "[encoded data removed]",
      "text/plain": [
       "<matplotlib.figure.Figure at 0xe840830>"
      ]
     },
     "metadata": {},
     "output_type": "display_data"
    },
    {
     "data": {
      "image/png": "[encoded data removed]",
      "text/plain": [
       "<matplotlib.figure.Figure at 0xe980330>"
      ]
     },
     "metadata": {},
     "output_type": "display_data"
    }
   ],
   "source": [
    "plotEachMonthAverageDailuUsageOfTaxiCabs()"
   ]
  },
  {
   "cell_type": "code",
   "execution_count": 18,
   "metadata": {},
   "outputs": [],
   "source": [
    "# USABLE? I think we should put it all in one plot !!\n",
    "# Plotting daily cab usage for each month separately\n",
    "def DailyCabUsage():\n",
    "    plt.figure()\n",
    "    months=['January','February','March','April','May','June']\n",
    "    \n",
    "    all_data=pd.DataFrame()\n",
    "    list_data=[]\n",
    "    for i,df in enumerate (list_DataFrames):\n",
    "            num_of_days=list_DataFrames[i].iloc[-1]['tpep_pickup_datetime'].day  #last day in the month == number of days in a month\n",
    "\n",
    "            df['day'] = df[\"tpep_pickup_datetime\"].apply(lambda df : df.day)\n",
    "            avg_number_of_rides=df.loc[:,['day','PULocationID']].groupby('day').count()\n",
    "            list_data.append(avg_number_of_rides)\n",
    "            avg_number_of_rides.plot(color='r',title=months[i],legend=False)"
   ]
  },
  {
   "cell_type": "code",
   "execution_count": 19,
   "metadata": {},
   "outputs": [
    {
     "data": {
      "text/plain": [
       "<matplotlib.figure.Figure at 0x1282c590>"
      ]
     },
     "metadata": {},
     "output_type": "display_data"
    },
    {
     "data": {
      "image/png": "[encoded data removed]",
      "text/plain": [
       "<matplotlib.figure.Figure at 0xeadc170>"
      ]
     },
     "metadata": {},
     "output_type": "display_data"
    },
    {
     "data": {
      "image/png": "[encoded data removed]",
      "text/plain": [
       "<matplotlib.figure.Figure at 0xed549f0>"
      ]
     },
     "metadata": {},
     "output_type": "display_data"
    },
    {
     "data": {
      "image/png": "[encoded data removed]",
      "text/plain": [
       "<matplotlib.figure.Figure at 0xeac8c30>"
      ]
     },
     "metadata": {},
     "output_type": "display_data"
    },
    {
     "data": {
      "image/png": "[encoded data removed]",
      "text/plain": [
       "<matplotlib.figure.Figure at 0xe99e130>"
      ]
     },
     "metadata": {},
     "output_type": "display_data"
    },
    {
     "data": {
      "image/png": "[encoded data removed]",
      "text/plain": [
       "<matplotlib.figure.Figure at 0xeaebe90>"
      ]
     },
     "metadata": {},
     "output_type": "display_data"
    },
    {
     "data": {
      "image/png": "[encoded data removed]",
      "text/plain": [
       "<matplotlib.figure.Figure at 0xc5f2b30>"
      ]
     },
     "metadata": {},
     "output_type": "display_data"
    }
   ],
   "source": [
    "DailyCabUsage()"
   ]
  },
  {
   "cell_type": "markdown",
   "metadata": {},
   "source": [
    "#irrelevant-> just trying out something\n",
    "\n",
    "\n",
    "all_data=pd.DataFrame()\n",
    "list_data=[]\n",
    "months=['January','February','March','April','May','June']\n",
    "\n",
    "for i,df in enumerate (list_DataFrames):\n",
    "        df['day'] = df[\"tpep_pickup_datetime\"].apply(lambda df : df.day)\n",
    "        avg_number_of_rides=df.loc[:,['day','PULocationID']].groupby('day').count()\n",
    "        #df.rename(columns={'PULocationID':months[i]},inplace=True)\n",
    "        list_data.append(avg_number_of_rides)\n",
    "        #ax = list_DataFrames[0].plot()\n",
    "\n",
    "        #list_DataFrames[1].plot(ax=ax)\n",
    "      #  avg_number_of_rides.plot(color='r')\n",
    "all_data=list_data[0]   \n",
    "m=pd.concat(list_data,axis=1,ignore_index=True)__??"
   ]
  },
  {
   "cell_type": "markdown",
   "metadata": {},
   "source": [
    "#irrelevant-> just trying out something\n",
    "\n",
    "ax = list_DataFrames[0].plot()\n",
    "\n",
    "list_DataFrames[1].plot(ax=ax)"
   ]
  },
  {
   "cell_type": "code",
   "execution_count": 7,
   "metadata": {},
   "outputs": [],
   "source": [
    "def plotEachMonthAverageDailyUsageOfTaxiCabs():\n",
    "    average_num_for_all_months=pd.DataFrame()\n",
    "    list_data=[]\n",
    "    for df in list_DataFrames:\n",
    "        num_of_days=df.iloc[-1]['tpep_pickup_datetime'].day\n",
    "        average_number_of_rides=df.loc[:,['Borough','PULocationID']].groupby('Borough').count()/num_of_days \n",
    "        list_data.append(average_number_of_rides)\n",
    "    average_num_for_all_months=average_num_for_all_months.append(list_data)\n",
    "    #average_num_for_all_months=pd.concat(list_data)\n",
    "    return average_num_for_all_months"
   ]
  },
  {
   "cell_type": "code",
   "execution_count": 8,
   "metadata": {},
   "outputs": [
    {
     "ename": "IndexError",
     "evalue": "list index out of range",
     "output_type": "error",
     "traceback": [
      "\u001b[0;31m---------------------------------------------------------------------------\u001b[0m",
      "\u001b[0;31mIndexError\u001b[0m                                Traceback (most recent call last)",
      "\u001b[0;32m<ipython-input-8-10efc99f5c50>\u001b[0m in \u001b[0;36m<module>\u001b[0;34m()\u001b[0m\n\u001b[0;32m----> 1\u001b[0;31m \u001b[0mplotEachMonthAverageDailyUsageOfTaxiCabs\u001b[0m\u001b[0;34m(\u001b[0m\u001b[0;34m)\u001b[0m\u001b[0;34m\u001b[0m\u001b[0m\n\u001b[0m",
      "\u001b[0;32m<ipython-input-7-6d98668fa27b>\u001b[0m in \u001b[0;36mplotEachMonthAverageDailyUsageOfTaxiCabs\u001b[0;34m()\u001b[0m\n\u001b[1;32m      6\u001b[0m         \u001b[0maverage_number_of_rides\u001b[0m\u001b[0;34m=\u001b[0m\u001b[0mdf\u001b[0m\u001b[0;34m.\u001b[0m\u001b[0mloc\u001b[0m\u001b[0;34m[\u001b[0m\u001b[0;34m:\u001b[0m\u001b[0;34m,\u001b[0m\u001b[0;34m[\u001b[0m\u001b[0;34m'Borough'\u001b[0m\u001b[0;34m,\u001b[0m\u001b[0;34m'PULocationID'\u001b[0m\u001b[0;34m]\u001b[0m\u001b[0;34m]\u001b[0m\u001b[0;34m.\u001b[0m\u001b[0mgroupby\u001b[0m\u001b[0;34m(\u001b[0m\u001b[0;34m'Borough'\u001b[0m\u001b[0;34m)\u001b[0m\u001b[0;34m.\u001b[0m\u001b[0mcount\u001b[0m\u001b[0;34m(\u001b[0m\u001b[0;34m)\u001b[0m\u001b[0;34m/\u001b[0m\u001b[0mnum_of_days\u001b[0m\u001b[0;34m\u001b[0m\u001b[0m\n\u001b[1;32m      7\u001b[0m         \u001b[0mlist_data\u001b[0m\u001b[0;34m.\u001b[0m\u001b[0mappend\u001b[0m\u001b[0;34m(\u001b[0m\u001b[0maverage_number_of_rides\u001b[0m\u001b[0;34m)\u001b[0m\u001b[0;34m\u001b[0m\u001b[0m\n\u001b[0;32m----> 8\u001b[0;31m     \u001b[0maverage_num_for_all_months\u001b[0m\u001b[0;34m=\u001b[0m\u001b[0maverage_num_for_all_months\u001b[0m\u001b[0;34m.\u001b[0m\u001b[0mappend\u001b[0m\u001b[0;34m(\u001b[0m\u001b[0mlist_data\u001b[0m\u001b[0;34m)\u001b[0m\u001b[0;34m\u001b[0m\u001b[0m\n\u001b[0m\u001b[1;32m      9\u001b[0m     \u001b[0;31m#average_num_for_all_months=pd.concat(list_data)\u001b[0m\u001b[0;34m\u001b[0m\u001b[0;34m\u001b[0m\u001b[0m\n\u001b[1;32m     10\u001b[0m     \u001b[0;32mreturn\u001b[0m \u001b[0maverage_num_for_all_months\u001b[0m\u001b[0;34m\u001b[0m\u001b[0m\n",
      "\u001b[0;32m~/anaconda3/lib/python3.6/site-packages/pandas/core/frame.py\u001b[0m in \u001b[0;36mappend\u001b[0;34m(self, other, ignore_index, verify_integrity, sort)\u001b[0m\n\u001b[1;32m   6187\u001b[0m             \u001b[0;32mif\u001b[0m \u001b[0;32mnot\u001b[0m \u001b[0mself\u001b[0m\u001b[0;34m.\u001b[0m\u001b[0mcolumns\u001b[0m\u001b[0;34m.\u001b[0m\u001b[0mequals\u001b[0m\u001b[0;34m(\u001b[0m\u001b[0mcombined_columns\u001b[0m\u001b[0;34m)\u001b[0m\u001b[0;34m:\u001b[0m\u001b[0;34m\u001b[0m\u001b[0m\n\u001b[1;32m   6188\u001b[0m                 \u001b[0mself\u001b[0m \u001b[0;34m=\u001b[0m \u001b[0mself\u001b[0m\u001b[0;34m.\u001b[0m\u001b[0mreindex\u001b[0m\u001b[0;34m(\u001b[0m\u001b[0mcolumns\u001b[0m\u001b[0;34m=\u001b[0m\u001b[0mcombined_columns\u001b[0m\u001b[0;34m)\u001b[0m\u001b[0;34m\u001b[0m\u001b[0m\n\u001b[0;32m-> 6189\u001b[0;31m         \u001b[0;32melif\u001b[0m \u001b[0misinstance\u001b[0m\u001b[0;34m(\u001b[0m\u001b[0mother\u001b[0m\u001b[0;34m,\u001b[0m \u001b[0mlist\u001b[0m\u001b[0;34m)\u001b[0m \u001b[0;32mand\u001b[0m \u001b[0;32mnot\u001b[0m \u001b[0misinstance\u001b[0m\u001b[0;34m(\u001b[0m\u001b[0mother\u001b[0m\u001b[0;34m[\u001b[0m\u001b[0;36m0\u001b[0m\u001b[0;34m]\u001b[0m\u001b[0;34m,\u001b[0m \u001b[0mDataFrame\u001b[0m\u001b[0;34m)\u001b[0m\u001b[0;34m:\u001b[0m\u001b[0;34m\u001b[0m\u001b[0m\n\u001b[0m\u001b[1;32m   6190\u001b[0m             \u001b[0mother\u001b[0m \u001b[0;34m=\u001b[0m \u001b[0mDataFrame\u001b[0m\u001b[0;34m(\u001b[0m\u001b[0mother\u001b[0m\u001b[0;34m)\u001b[0m\u001b[0;34m\u001b[0m\u001b[0m\n\u001b[1;32m   6191\u001b[0m             \u001b[0;32mif\u001b[0m \u001b[0;34m(\u001b[0m\u001b[0mself\u001b[0m\u001b[0;34m.\u001b[0m\u001b[0mcolumns\u001b[0m\u001b[0;34m.\u001b[0m\u001b[0mget_indexer\u001b[0m\u001b[0;34m(\u001b[0m\u001b[0mother\u001b[0m\u001b[0;34m.\u001b[0m\u001b[0mcolumns\u001b[0m\u001b[0;34m)\u001b[0m \u001b[0;34m>=\u001b[0m \u001b[0;36m0\u001b[0m\u001b[0;34m)\u001b[0m\u001b[0;34m.\u001b[0m\u001b[0mall\u001b[0m\u001b[0;34m(\u001b[0m\u001b[0;34m)\u001b[0m\u001b[0;34m:\u001b[0m\u001b[0;34m\u001b[0m\u001b[0m\n",
      "\u001b[0;31mIndexError\u001b[0m: list index out of range"
     ]
    }
   ],
   "source": [
    "plotEachMonthAverageDailyUsageOfTaxiCabs()"
   ]
  },
  {
   "cell_type": "code",
   "execution_count": null,
   "metadata": {},
   "outputs": [],
   "source": [
    "def plotEachMonthAverageDailyUsageOfTaxiCabs():\n",
    "    average_num_for_all_months=pd.DataFrame() # new DataFrame which will contain data for plotting\n",
    "    list_data=[] #\n",
    "    for i in range(len(list_DataFrames)):\n",
    "        num_of_days=list_DataFrames[i].iloc[-1]['tpep_pickup_datetime'].day  #last day in the month == number of days in a month\n",
    "        average_number_of_rides=list_DataFrames[i].loc[:,['Borough','PULocationID']].groupby('Borough').count()/num_of_days \n",
    "        average_number_of_rides['month']=i+1\n",
    "        list_data.append(average_number_of_rides)\n",
    "    average_num_for_all_months=average_num_for_all_months.append(list_data)\n",
    "    #average_num_for_all_months=pd.concat(list_data)\n",
    "   \n",
    "    fig, ax = plt.subplots()\n",
    "    # the size of A4 paper\n",
    "    fig.set_size_inches(11.7, 8.27)\n",
    "    ax = sns.barplot(y=\"PULocationID\", x=average_num_for_all_months.index, data=average_num_for_all_months\n",
    "                     ,hue='month')\n",
    "    return ax\n",
    "    #return average_num_for_all_months"
   ]
  },
  {
   "cell_type": "code",
   "execution_count": null,
   "metadata": {},
   "outputs": [],
   "source": []
  },
  {
   "cell_type": "code",
   "execution_count": null,
   "metadata": {},
   "outputs": [],
   "source": [
    "plotEachMonthAverageDailyUsageOfTaxiCabs()"
   ]
  },
  {
   "cell_type": "code",
   "execution_count": null,
   "metadata": {},
   "outputs": [],
   "source": [
    "#all_data=pd.concat(list_DataFrames)"
   ]
  },
  {
   "cell_type": "code",
   "execution_count": null,
   "metadata": {},
   "outputs": [],
   "source": [
    "merged['duration'] = merged['tpep_dropoff_datetime'] - merged['tpep_pickup_datetime']"
   ]
  },
  {
   "cell_type": "markdown",
   "metadata": {},
   "source": [
    "Let's put our attention on the distribution of trip's duration. Provide a plot for it and comment what you see. Run this analysis for NYC and for each borough (and obviously comment the results!)."
   ]
  },
  {
   "cell_type": "code",
   "execution_count": 7,
   "metadata": {},
   "outputs": [],
   "source": [
    "# for NYC"
   ]
  },
  {
   "cell_type": "code",
   "execution_count": 2,
   "metadata": {},
   "outputs": [],
   "source": [
    "def fetch_data(cols,parse_cols):\n",
    "    list_DataFrames=[]\n",
    "    df_names=['yellow_tripdata_2018-01.csv','yellow_tripdata_2018-02.csv',\n",
    "          'yellow_tripdata_2018-03.csv','yellow_tripdata_2018-04.csv',\n",
    "         'yellow_tripdata_2018-05.csv','yellow_tripdata_2018-06.csv']\n",
    "    taxi_zone_lookup = pd.read_csv('data/taxi_zone_lookup.csv',usecols=['Borough','LocationID'])\n",
    "    for i in df_names:\n",
    "        list_DataFrames.append(pd.merge(pd.read_csv('data/'+str(i),usecols=cols,parse_dates=parse_cols)\n",
    "                     ,taxi_zone_lookup, how=\"left\",left_on=\"PULocationID\",right_on=\"LocationID\"))\n",
    "    return list_DataFrames"
   ]
  },
  {
   "cell_type": "code",
   "execution_count": 3,
   "metadata": {},
   "outputs": [],
   "source": [
    "cols=['PULocationID','tpep_dropoff_datetime','tpep_pickup_datetime']\n",
    "parse_cols=['tpep_dropoff_datetime','tpep_pickup_datetime']\n",
    "list_DataFrames=fetch_data(cols,parse_cols)"
   ]
  },
  {
   "cell_type": "code",
   "execution_count": 4,
   "metadata": {},
   "outputs": [
    {
     "ename": "NameError",
     "evalue": "name 'months' is not defined",
     "output_type": "error",
     "traceback": [
      "\u001b[1;31m---------------------------------------------------------------------------\u001b[0m",
      "\u001b[1;31mNameError\u001b[0m                                 Traceback (most recent call last)",
      "\u001b[1;32m<ipython-input-4-3ccac2ddd123>\u001b[0m in \u001b[0;36m<module>\u001b[1;34m()\u001b[0m\n\u001b[1;32m----> 1\u001b[1;33m \u001b[1;34m'duration_'\u001b[0m\u001b[1;33m+\u001b[0m\u001b[0mstr\u001b[0m\u001b[1;33m(\u001b[0m\u001b[0mmonths\u001b[0m\u001b[1;33m[\u001b[0m\u001b[1;36m0\u001b[0m\u001b[1;33m]\u001b[0m\u001b[1;33m)\u001b[0m\u001b[1;33m\u001b[0m\u001b[0m\n\u001b[0m",
      "\u001b[1;31mNameError\u001b[0m: name 'months' is not defined"
     ]
    }
   ],
   "source": [
    "'duration_'+str(months[0])"
   ]
  },
  {
   "cell_type": "code",
   "execution_count": 16,
   "metadata": {},
   "outputs": [
    {
     "data": {
      "text/plain": [
       "0        00:07:58\n",
       "1        00:15:02\n",
       "2        00:03:50\n",
       "3        00:08:14\n",
       "4        00:23:45\n",
       "5        00:17:29\n",
       "6        00:07:40\n",
       "7        00:19:51\n",
       "8        00:03:11\n",
       "9        00:09:54\n",
       "10       00:10:03\n",
       "11       00:21:04\n",
       "12       00:25:49\n",
       "13       00:04:06\n",
       "14       00:14:17\n",
       "15       00:07:01\n",
       "16       00:11:15\n",
       "17       00:15:23\n",
       "18       00:04:33\n",
       "19       00:17:49\n",
       "20       00:17:39\n",
       "21       00:16:42\n",
       "22       00:31:43\n",
       "23       00:09:35\n",
       "24       00:27:15\n",
       "25       00:04:23\n",
       "26       00:23:08\n",
       "27       00:15:36\n",
       "28       00:10:09\n",
       "29       00:03:59\n",
       "           ...   \n",
       "969391   00:08:03\n",
       "969392   00:07:39\n",
       "969393   00:27:15\n",
       "969394   00:05:03\n",
       "969395   00:14:22\n",
       "969396   00:04:27\n",
       "969397   00:02:20\n",
       "969398   00:13:34\n",
       "969399   00:33:36\n",
       "969400   00:06:13\n",
       "969401   00:06:42\n",
       "969402   00:02:24\n",
       "969403   00:08:24\n",
       "969404   00:07:05\n",
       "969405   00:06:31\n",
       "969406   00:10:40\n",
       "969407   00:05:17\n",
       "969408   00:14:53\n",
       "969409   00:11:23\n",
       "969410   00:15:53\n",
       "969411   00:04:14\n",
       "969412   00:12:56\n",
       "969413   00:09:52\n",
       "969414   00:20:02\n",
       "969415   00:20:35\n",
       "969416   00:03:52\n",
       "969417   00:07:08\n",
       "969418   00:08:03\n",
       "969419   00:10:44\n",
       "969420   00:15:23\n",
       "Name: duration_February, Length: 969421, dtype: timedelta64[ns]"
      ]
     },
     "execution_count": 16,
     "metadata": {},
     "output_type": "execute_result"
    }
   ],
   "source": [
    "list_DataFrames[1].loc[:,'duration_'+str(months[1])]"
   ]
  },
  {
   "cell_type": "code",
   "execution_count": 4,
   "metadata": {},
   "outputs": [
    {
     "ename": "ValueError",
     "evalue": "Shape of passed values is (1, 1), indices imply (2, 1)",
     "output_type": "error",
     "traceback": [
      "\u001b[1;31m---------------------------------------------------------------------------\u001b[0m",
      "\u001b[1;31mValueError\u001b[0m                                Traceback (most recent call last)",
      "\u001b[1;32mC:\\Users\\Dusica\\Anaconda3\\lib\\site-packages\\pandas\\core\\internals.py\u001b[0m in \u001b[0;36mcreate_block_manager_from_blocks\u001b[1;34m(blocks, axes)\u001b[0m\n\u001b[0;32m   4293\u001b[0m                 blocks = [make_block(values=blocks[0],\n\u001b[1;32m-> 4294\u001b[1;33m                                      placement=slice(0, len(axes[0])))]\n\u001b[0m\u001b[0;32m   4295\u001b[0m \u001b[1;33m\u001b[0m\u001b[0m\n",
      "\u001b[1;32mC:\\Users\\Dusica\\Anaconda3\\lib\\site-packages\\pandas\\core\\internals.py\u001b[0m in \u001b[0;36mmake_block\u001b[1;34m(values, placement, klass, ndim, dtype, fastpath)\u001b[0m\n\u001b[0;32m   2718\u001b[0m \u001b[1;33m\u001b[0m\u001b[0m\n\u001b[1;32m-> 2719\u001b[1;33m     \u001b[1;32mreturn\u001b[0m \u001b[0mklass\u001b[0m\u001b[1;33m(\u001b[0m\u001b[0mvalues\u001b[0m\u001b[1;33m,\u001b[0m \u001b[0mndim\u001b[0m\u001b[1;33m=\u001b[0m\u001b[0mndim\u001b[0m\u001b[1;33m,\u001b[0m \u001b[0mfastpath\u001b[0m\u001b[1;33m=\u001b[0m\u001b[0mfastpath\u001b[0m\u001b[1;33m,\u001b[0m \u001b[0mplacement\u001b[0m\u001b[1;33m=\u001b[0m\u001b[0mplacement\u001b[0m\u001b[1;33m)\u001b[0m\u001b[1;33m\u001b[0m\u001b[0m\n\u001b[0m\u001b[0;32m   2720\u001b[0m \u001b[1;33m\u001b[0m\u001b[0m\n",
      "\u001b[1;32mC:\\Users\\Dusica\\Anaconda3\\lib\\site-packages\\pandas\\core\\internals.py\u001b[0m in \u001b[0;36m__init__\u001b[1;34m(self, values, placement, ndim, fastpath)\u001b[0m\n\u001b[0;32m    114\u001b[0m                              'implies %d' % (len(self.values),\n\u001b[1;32m--> 115\u001b[1;33m                                              len(self.mgr_locs)))\n\u001b[0m\u001b[0;32m    116\u001b[0m \u001b[1;33m\u001b[0m\u001b[0m\n",
      "\u001b[1;31mValueError\u001b[0m: Wrong number of items passed 1, placement implies 2",
      "\nDuring handling of the above exception, another exception occurred:\n",
      "\u001b[1;31mValueError\u001b[0m                                Traceback (most recent call last)",
      "\u001b[1;32m<ipython-input-4-a8d45d96a913>\u001b[0m in \u001b[0;36m<module>\u001b[1;34m()\u001b[0m\n\u001b[0;32m      3\u001b[0m \u001b[0mmonths\u001b[0m\u001b[1;33m=\u001b[0m\u001b[1;33m[\u001b[0m\u001b[1;34m'January'\u001b[0m\u001b[1;33m,\u001b[0m\u001b[1;34m'February'\u001b[0m\u001b[1;33m,\u001b[0m\u001b[1;34m'March'\u001b[0m\u001b[1;33m,\u001b[0m\u001b[1;34m'April'\u001b[0m\u001b[1;33m,\u001b[0m\u001b[1;34m'May'\u001b[0m\u001b[1;33m,\u001b[0m\u001b[1;34m'June'\u001b[0m\u001b[1;33m]\u001b[0m\u001b[1;33m\u001b[0m\u001b[0m\n\u001b[0;32m      4\u001b[0m \u001b[1;33m\u001b[0m\u001b[0m\n\u001b[1;32m----> 5\u001b[1;33m pd.concat([pd.DataFrame([i], columns=['tpep_dropoff_datetime','tpep_pickup_datetime']) for i in range(len(list_DataFrames))],\n\u001b[0m\u001b[0;32m      6\u001b[0m            ignore_index=True)\n",
      "\u001b[1;32m<ipython-input-4-a8d45d96a913>\u001b[0m in \u001b[0;36m<listcomp>\u001b[1;34m(.0)\u001b[0m\n\u001b[0;32m      3\u001b[0m \u001b[0mmonths\u001b[0m\u001b[1;33m=\u001b[0m\u001b[1;33m[\u001b[0m\u001b[1;34m'January'\u001b[0m\u001b[1;33m,\u001b[0m\u001b[1;34m'February'\u001b[0m\u001b[1;33m,\u001b[0m\u001b[1;34m'March'\u001b[0m\u001b[1;33m,\u001b[0m\u001b[1;34m'April'\u001b[0m\u001b[1;33m,\u001b[0m\u001b[1;34m'May'\u001b[0m\u001b[1;33m,\u001b[0m\u001b[1;34m'June'\u001b[0m\u001b[1;33m]\u001b[0m\u001b[1;33m\u001b[0m\u001b[0m\n\u001b[0;32m      4\u001b[0m \u001b[1;33m\u001b[0m\u001b[0m\n\u001b[1;32m----> 5\u001b[1;33m pd.concat([pd.DataFrame([i], columns=['tpep_dropoff_datetime','tpep_pickup_datetime']) for i in range(len(list_DataFrames))],\n\u001b[0m\u001b[0;32m      6\u001b[0m            ignore_index=True)\n",
      "\u001b[1;32mC:\\Users\\Dusica\\Anaconda3\\lib\\site-packages\\pandas\\core\\frame.py\u001b[0m in \u001b[0;36m__init__\u001b[1;34m(self, data, index, columns, dtype, copy)\u001b[0m\n\u001b[0;32m    328\u001b[0m                 \u001b[1;32melse\u001b[0m\u001b[1;33m:\u001b[0m\u001b[1;33m\u001b[0m\u001b[0m\n\u001b[0;32m    329\u001b[0m                     mgr = self._init_ndarray(data, index, columns, dtype=dtype,\n\u001b[1;32m--> 330\u001b[1;33m                                              copy=copy)\n\u001b[0m\u001b[0;32m    331\u001b[0m             \u001b[1;32melse\u001b[0m\u001b[1;33m:\u001b[0m\u001b[1;33m\u001b[0m\u001b[0m\n\u001b[0;32m    332\u001b[0m                 \u001b[0mmgr\u001b[0m \u001b[1;33m=\u001b[0m \u001b[0mself\u001b[0m\u001b[1;33m.\u001b[0m\u001b[0m_init_dict\u001b[0m\u001b[1;33m(\u001b[0m\u001b[1;33m{\u001b[0m\u001b[1;33m}\u001b[0m\u001b[1;33m,\u001b[0m \u001b[0mindex\u001b[0m\u001b[1;33m,\u001b[0m \u001b[0mcolumns\u001b[0m\u001b[1;33m,\u001b[0m \u001b[0mdtype\u001b[0m\u001b[1;33m=\u001b[0m\u001b[0mdtype\u001b[0m\u001b[1;33m)\u001b[0m\u001b[1;33m\u001b[0m\u001b[0m\n",
      "\u001b[1;32mC:\\Users\\Dusica\\Anaconda3\\lib\\site-packages\\pandas\\core\\frame.py\u001b[0m in \u001b[0;36m_init_ndarray\u001b[1;34m(self, values, index, columns, dtype, copy)\u001b[0m\n\u001b[0;32m    481\u001b[0m             \u001b[0mvalues\u001b[0m \u001b[1;33m=\u001b[0m \u001b[0mmaybe_infer_to_datetimelike\u001b[0m\u001b[1;33m(\u001b[0m\u001b[0mvalues\u001b[0m\u001b[1;33m)\u001b[0m\u001b[1;33m\u001b[0m\u001b[0m\n\u001b[0;32m    482\u001b[0m \u001b[1;33m\u001b[0m\u001b[0m\n\u001b[1;32m--> 483\u001b[1;33m         \u001b[1;32mreturn\u001b[0m \u001b[0mcreate_block_manager_from_blocks\u001b[0m\u001b[1;33m(\u001b[0m\u001b[1;33m[\u001b[0m\u001b[0mvalues\u001b[0m\u001b[1;33m]\u001b[0m\u001b[1;33m,\u001b[0m \u001b[1;33m[\u001b[0m\u001b[0mcolumns\u001b[0m\u001b[1;33m,\u001b[0m \u001b[0mindex\u001b[0m\u001b[1;33m]\u001b[0m\u001b[1;33m)\u001b[0m\u001b[1;33m\u001b[0m\u001b[0m\n\u001b[0m\u001b[0;32m    484\u001b[0m \u001b[1;33m\u001b[0m\u001b[0m\n\u001b[0;32m    485\u001b[0m     \u001b[1;33m@\u001b[0m\u001b[0mproperty\u001b[0m\u001b[1;33m\u001b[0m\u001b[0m\n",
      "\u001b[1;32mC:\\Users\\Dusica\\Anaconda3\\lib\\site-packages\\pandas\\core\\internals.py\u001b[0m in \u001b[0;36mcreate_block_manager_from_blocks\u001b[1;34m(blocks, axes)\u001b[0m\n\u001b[0;32m   4301\u001b[0m         \u001b[0mblocks\u001b[0m \u001b[1;33m=\u001b[0m \u001b[1;33m[\u001b[0m\u001b[0mgetattr\u001b[0m\u001b[1;33m(\u001b[0m\u001b[0mb\u001b[0m\u001b[1;33m,\u001b[0m \u001b[1;34m'values'\u001b[0m\u001b[1;33m,\u001b[0m \u001b[0mb\u001b[0m\u001b[1;33m)\u001b[0m \u001b[1;32mfor\u001b[0m \u001b[0mb\u001b[0m \u001b[1;32min\u001b[0m \u001b[0mblocks\u001b[0m\u001b[1;33m]\u001b[0m\u001b[1;33m\u001b[0m\u001b[0m\n\u001b[0;32m   4302\u001b[0m         \u001b[0mtot_items\u001b[0m \u001b[1;33m=\u001b[0m \u001b[0msum\u001b[0m\u001b[1;33m(\u001b[0m\u001b[0mb\u001b[0m\u001b[1;33m.\u001b[0m\u001b[0mshape\u001b[0m\u001b[1;33m[\u001b[0m\u001b[1;36m0\u001b[0m\u001b[1;33m]\u001b[0m \u001b[1;32mfor\u001b[0m \u001b[0mb\u001b[0m \u001b[1;32min\u001b[0m \u001b[0mblocks\u001b[0m\u001b[1;33m)\u001b[0m\u001b[1;33m\u001b[0m\u001b[0m\n\u001b[1;32m-> 4303\u001b[1;33m         \u001b[0mconstruction_error\u001b[0m\u001b[1;33m(\u001b[0m\u001b[0mtot_items\u001b[0m\u001b[1;33m,\u001b[0m \u001b[0mblocks\u001b[0m\u001b[1;33m[\u001b[0m\u001b[1;36m0\u001b[0m\u001b[1;33m]\u001b[0m\u001b[1;33m.\u001b[0m\u001b[0mshape\u001b[0m\u001b[1;33m[\u001b[0m\u001b[1;36m1\u001b[0m\u001b[1;33m:\u001b[0m\u001b[1;33m]\u001b[0m\u001b[1;33m,\u001b[0m \u001b[0maxes\u001b[0m\u001b[1;33m,\u001b[0m \u001b[0me\u001b[0m\u001b[1;33m)\u001b[0m\u001b[1;33m\u001b[0m\u001b[0m\n\u001b[0m\u001b[0;32m   4304\u001b[0m \u001b[1;33m\u001b[0m\u001b[0m\n\u001b[0;32m   4305\u001b[0m \u001b[1;33m\u001b[0m\u001b[0m\n",
      "\u001b[1;32mC:\\Users\\Dusica\\Anaconda3\\lib\\site-packages\\pandas\\core\\internals.py\u001b[0m in \u001b[0;36mconstruction_error\u001b[1;34m(tot_items, block_shape, axes, e)\u001b[0m\n\u001b[0;32m   4278\u001b[0m         \u001b[1;32mraise\u001b[0m \u001b[0mValueError\u001b[0m\u001b[1;33m(\u001b[0m\u001b[1;34m\"Empty data passed with indices specified.\"\u001b[0m\u001b[1;33m)\u001b[0m\u001b[1;33m\u001b[0m\u001b[0m\n\u001b[0;32m   4279\u001b[0m     raise ValueError(\"Shape of passed values is {0}, indices imply {1}\".format(\n\u001b[1;32m-> 4280\u001b[1;33m         passed, implied))\n\u001b[0m\u001b[0;32m   4281\u001b[0m \u001b[1;33m\u001b[0m\u001b[0m\n\u001b[0;32m   4282\u001b[0m \u001b[1;33m\u001b[0m\u001b[0m\n",
      "\u001b[1;31mValueError\u001b[0m: Shape of passed values is (1, 1), indices imply (2, 1)"
     ]
    }
   ],
   "source": [
    "all_durs=pd.DataFrame()\n",
    "list_data=[]\n",
    "months=['January','February','March','April','May','June']\n",
    "\n",
    "pd.concat([pd.DataFrame([i], columns=['tpep_dropoff_datetime','tpep_pickup_datetime']) for i in range(len(list_DataFrames))],\n",
    "           ignore_index=True)"
   ]
  },
  {
   "cell_type": "code",
   "execution_count": null,
   "metadata": {},
   "outputs": [],
   "source": []
  },
  {
   "cell_type": "code",
   "execution_count": 24,
   "metadata": {},
   "outputs": [],
   "source": [
    "all_durs=pd.DataFrame()\n",
    "list_data=[]\n",
    "months=['January','February','March','April','May','June']\n",
    "\n",
    "#pd.concat([pd.DataFrame([i], columns=['A']) for i in range(5)],\n",
    "#           ignore_index=True)\n",
    "\n",
    "for i,df in enumerate (list_DataFrames):\n",
    "    #df['duration_'+months[i]] = df['tpep_dropoff_datetime'] - df['tpep_pickup_datetime']\n",
    "    list_data.append(pd.Series(df['tpep_dropoff_datetime'] - df['tpep_pickup_datetime']))\n",
    "        \n",
    "all_durs['duration']=pd.Series(list_data)"
   ]
  },
  {
   "cell_type": "code",
   "execution_count": 22,
   "metadata": {},
   "outputs": [
    {
     "data": {
      "text/plain": [
       "1000001"
      ]
     },
     "execution_count": 22,
     "metadata": {},
     "output_type": "execute_result"
    }
   ],
   "source": [
    "len(durations)"
   ]
  },
  {
   "cell_type": "code",
   "execution_count": 17,
   "metadata": {},
   "outputs": [
    {
     "data": {
      "text/plain": [
       "[0         00:05:46\n",
       " 1         00:24:39\n",
       " 2         00:04:13\n",
       " 3         00:05:56\n",
       " 4         00:03:32\n",
       " 5         00:13:22\n",
       " 6         00:28:28\n",
       " 7         00:01:23\n",
       " 8         00:20:22\n",
       " 9         00:15:34\n",
       " 10        00:09:14\n",
       " 11        00:06:16\n",
       " 12        00:01:32\n",
       " 13        00:10:31\n",
       " 14        00:08:34\n",
       " 15        00:05:56\n",
       " 16        00:17:23\n",
       " 17        00:10:32\n",
       " 18        00:27:09\n",
       " 19        00:26:25\n",
       " 20        00:20:09\n",
       " 21        00:12:44\n",
       " 22        00:07:57\n",
       " 23        00:23:05\n",
       " 24        00:01:56\n",
       " 25        00:08:09\n",
       " 26        00:03:49\n",
       " 27        00:11:20\n",
       " 28        00:13:34\n",
       " 29        00:10:52\n",
       "             ...   \n",
       " 999971    00:10:51\n",
       " 999972    00:00:21\n",
       " 999973    00:18:27\n",
       " 999974    00:17:06\n",
       " 999975    00:09:16\n",
       " 999976    00:18:56\n",
       " 999977    00:09:31\n",
       " 999978    00:06:11\n",
       " 999979    00:10:58\n",
       " 999980    00:35:36\n",
       " 999981    00:09:45\n",
       " 999982    00:17:02\n",
       " 999983    00:09:25\n",
       " 999984    00:12:04\n",
       " 999985    00:14:01\n",
       " 999986    00:11:16\n",
       " 999987    00:04:27\n",
       " 999988    00:30:28\n",
       " 999989    00:22:50\n",
       " 999990    00:13:30\n",
       " 999991    00:17:32\n",
       " 999992    00:16:14\n",
       " 999993    00:25:05\n",
       " 999994    00:04:21\n",
       " 999995    00:19:05\n",
       " 999996    00:18:03\n",
       " 999997    00:12:56\n",
       " 999998    00:03:12\n",
       " 999999    00:00:48\n",
       " 1000000   00:00:22\n",
       " Length: 1000001, dtype: timedelta64[ns], 0        00:07:58\n",
       " 1        00:15:02\n",
       " 2        00:03:50\n",
       " 3        00:08:14\n",
       " 4        00:23:45\n",
       " 5        00:17:29\n",
       " 6        00:07:40\n",
       " 7        00:19:51\n",
       " 8        00:03:11\n",
       " 9        00:09:54\n",
       " 10       00:10:03\n",
       " 11       00:21:04\n",
       " 12       00:25:49\n",
       " 13       00:04:06\n",
       " 14       00:14:17\n",
       " 15       00:07:01\n",
       " 16       00:11:15\n",
       " 17       00:15:23\n",
       " 18       00:04:33\n",
       " 19       00:17:49\n",
       " 20       00:17:39\n",
       " 21       00:16:42\n",
       " 22       00:31:43\n",
       " 23       00:09:35\n",
       " 24       00:27:15\n",
       " 25       00:04:23\n",
       " 26       00:23:08\n",
       " 27       00:15:36\n",
       " 28       00:10:09\n",
       " 29       00:03:59\n",
       "            ...   \n",
       " 969391   00:08:03\n",
       " 969392   00:07:39\n",
       " 969393   00:27:15\n",
       " 969394   00:05:03\n",
       " 969395   00:14:22\n",
       " 969396   00:04:27\n",
       " 969397   00:02:20\n",
       " 969398   00:13:34\n",
       " 969399   00:33:36\n",
       " 969400   00:06:13\n",
       " 969401   00:06:42\n",
       " 969402   00:02:24\n",
       " 969403   00:08:24\n",
       " 969404   00:07:05\n",
       " 969405   00:06:31\n",
       " 969406   00:10:40\n",
       " 969407   00:05:17\n",
       " 969408   00:14:53\n",
       " 969409   00:11:23\n",
       " 969410   00:15:53\n",
       " 969411   00:04:14\n",
       " 969412   00:12:56\n",
       " 969413   00:09:52\n",
       " 969414   00:20:02\n",
       " 969415   00:20:35\n",
       " 969416   00:03:52\n",
       " 969417   00:07:08\n",
       " 969418   00:08:03\n",
       " 969419   00:10:44\n",
       " 969420   00:15:23\n",
       " Length: 969421, dtype: timedelta64[ns], 0         00:11:55\n",
       " 1         00:14:07\n",
       " 2         00:11:57\n",
       " 3         00:24:50\n",
       " 4         00:10:33\n",
       " 5         00:03:19\n",
       " 6         00:12:36\n",
       " 7         00:20:35\n",
       " 8         00:12:04\n",
       " 9         00:09:00\n",
       " 10        00:09:37\n",
       " 11        00:21:10\n",
       " 12        00:06:06\n",
       " 13        00:21:34\n",
       " 14        00:42:32\n",
       " 15        00:15:18\n",
       " 16        00:03:39\n",
       " 17        00:09:32\n",
       " 18        00:04:05\n",
       " 19        00:03:04\n",
       " 20        00:07:55\n",
       " 21        00:23:34\n",
       " 22        00:04:00\n",
       " 23        00:20:54\n",
       " 24        00:08:11\n",
       " 25        00:13:30\n",
       " 26        00:09:23\n",
       " 27        00:16:08\n",
       " 28        00:23:25\n",
       " 29        00:06:44\n",
       "             ...   \n",
       " 1670473   00:24:48\n",
       " 1670474   00:03:49\n",
       " 1670475   00:18:48\n",
       " 1670476   00:16:24\n",
       " 1670477   00:11:09\n",
       " 1670478   00:31:58\n",
       " 1670479   00:09:02\n",
       " 1670480   00:08:59\n",
       " 1670481   00:14:44\n",
       " 1670482   00:06:13\n",
       " 1670483   00:20:45\n",
       " 1670484   00:27:52\n",
       " 1670485   00:13:48\n",
       " 1670486   00:14:51\n",
       " 1670487   00:12:28\n",
       " 1670488   00:14:09\n",
       " 1670489   00:05:55\n",
       " 1670490   00:10:58\n",
       " 1670491   00:03:46\n",
       " 1670492   00:02:35\n",
       " 1670493   00:01:20\n",
       " 1670494   00:15:15\n",
       " 1670495   00:20:34\n",
       " 1670496   00:30:36\n",
       " 1670497   00:04:24\n",
       " 1670498   00:20:30\n",
       " 1670499   00:10:32\n",
       " 1670500   00:14:31\n",
       " 1670501   00:12:54\n",
       " 1670502   00:19:42\n",
       " Length: 1670503, dtype: timedelta64[ns], 0         00:03:22\n",
       " 1         00:05:56\n",
       " 2         00:16:02\n",
       " 3         00:06:10\n",
       " 4         00:22:21\n",
       " 5         00:13:21\n",
       " 6         00:09:02\n",
       " 7         00:16:37\n",
       " 8         00:08:04\n",
       " 9         00:02:39\n",
       " 10        00:08:29\n",
       " 11        00:38:45\n",
       " 12        00:03:34\n",
       " 13        00:04:10\n",
       " 14        00:11:17\n",
       " 15        00:11:20\n",
       " 16        00:08:51\n",
       " 17        00:30:51\n",
       " 18        00:04:22\n",
       " 19        00:14:36\n",
       " 20        00:14:50\n",
       " 21        00:12:39\n",
       " 22        00:10:42\n",
       " 23        00:06:15\n",
       " 24        00:15:22\n",
       " 25        00:20:44\n",
       " 26        00:05:09\n",
       " 27        00:01:12\n",
       " 28        00:12:21\n",
       " 29        00:03:09\n",
       "             ...   \n",
       " 1545612   00:04:34\n",
       " 1545613   00:07:15\n",
       " 1545614   00:11:38\n",
       " 1545615   00:18:16\n",
       " 1545616   00:07:57\n",
       " 1545617   00:28:14\n",
       " 1545618   00:26:31\n",
       " 1545619   00:28:23\n",
       " 1545620   00:21:55\n",
       " 1545621   00:08:54\n",
       " 1545622   00:25:34\n",
       " 1545623   00:04:10\n",
       " 1545624   00:08:09\n",
       " 1545625   00:10:05\n",
       " 1545626   00:02:36\n",
       " 1545627   00:11:46\n",
       " 1545628   00:21:24\n",
       " 1545629   00:20:22\n",
       " 1545630   00:18:48\n",
       " 1545631   00:03:48\n",
       " 1545632   00:06:52\n",
       " 1545633   00:01:46\n",
       " 1545634   00:04:31\n",
       " 1545635   00:16:55\n",
       " 1545636   00:05:37\n",
       " 1545637   00:17:38\n",
       " 1545638   00:01:35\n",
       " 1545639   00:06:39\n",
       " 1545640   00:15:56\n",
       " 1545641   00:18:04\n",
       " Length: 1545642, dtype: timedelta64[ns], 0         00:29:36\n",
       " 1         00:04:54\n",
       " 2         00:10:09\n",
       " 3         02:03:19\n",
       " 4         00:02:12\n",
       " 5         00:14:10\n",
       " 6         00:21:21\n",
       " 7         00:04:45\n",
       " 8         00:20:19\n",
       " 9         00:03:46\n",
       " 10        00:16:02\n",
       " 11        00:17:07\n",
       " 12        00:00:38\n",
       " 13        00:03:29\n",
       " 14        00:06:19\n",
       " 15        00:14:04\n",
       " 16        00:07:42\n",
       " 17        00:03:58\n",
       " 18        00:06:41\n",
       " 19        00:13:52\n",
       " 20        00:08:26\n",
       " 21        00:09:25\n",
       " 22        00:07:40\n",
       " 23        00:06:39\n",
       " 24        00:29:34\n",
       " 25        00:12:20\n",
       " 26        00:23:46\n",
       " 27        00:04:17\n",
       " 28        00:06:26\n",
       " 29        00:18:30\n",
       "             ...   \n",
       " 1464160   00:10:40\n",
       " 1464161   00:03:36\n",
       " 1464162   00:17:11\n",
       " 1464163   00:15:00\n",
       " 1464164   00:08:00\n",
       " 1464165   00:05:07\n",
       " 1464166   00:23:45\n",
       " 1464167   00:16:10\n",
       " 1464168   00:12:36\n",
       " 1464169   00:10:00\n",
       " 1464170   00:32:00\n",
       " 1464171   00:04:57\n",
       " 1464172   00:09:51\n",
       " 1464173   00:02:53\n",
       " 1464174   00:19:20\n",
       " 1464175   00:00:03\n",
       " 1464176   00:11:15\n",
       " 1464177   00:07:36\n",
       " 1464178   00:14:45\n",
       " 1464179   00:12:31\n",
       " 1464180   00:06:44\n",
       " 1464181   00:31:59\n",
       " 1464182   00:13:49\n",
       " 1464183   00:46:41\n",
       " 1464184   00:07:45\n",
       " 1464185   00:02:33\n",
       " 1464186   00:04:15\n",
       " 1464187   00:06:29\n",
       " 1464188   00:12:25\n",
       " 1464189   00:46:59\n",
       " Length: 1464190, dtype: timedelta64[ns], 0        00:22:07\n",
       " 1        00:17:41\n",
       " 2        00:11:58\n",
       " 3        00:00:00\n",
       " 4        00:13:06\n",
       " 5        00:27:42\n",
       " 6        00:26:14\n",
       " 7        00:03:09\n",
       " 8        00:04:39\n",
       " 9        00:12:56\n",
       " 10       00:27:05\n",
       " 11       00:32:15\n",
       " 12       00:00:11\n",
       " 13       00:21:36\n",
       " 14       00:10:51\n",
       " 15       00:13:50\n",
       " 16       00:10:10\n",
       " 17       00:36:52\n",
       " 18       00:06:51\n",
       " 19       00:03:08\n",
       " 20       00:26:40\n",
       " 21       00:02:25\n",
       " 22       00:06:16\n",
       " 23       00:37:22\n",
       " 24       00:06:45\n",
       " 25       00:45:57\n",
       " 26       00:03:41\n",
       " 27       00:10:25\n",
       " 28       00:14:09\n",
       " 29       00:20:09\n",
       "            ...   \n",
       " 994713   00:07:15\n",
       " 994714   00:23:13\n",
       " 994715   00:20:00\n",
       " 994716   00:23:48\n",
       " 994717   00:04:13\n",
       " 994718   00:19:13\n",
       " 994719   00:29:00\n",
       " 994720   00:17:27\n",
       " 994721   00:06:29\n",
       " 994722   00:30:28\n",
       " 994723   00:18:18\n",
       " 994724   00:47:03\n",
       " 994725   00:33:05\n",
       " 994726   00:14:32\n",
       " 994727   00:18:28\n",
       " 994728   00:13:17\n",
       " 994729   00:07:34\n",
       " 994730   00:13:59\n",
       " 994731   00:09:58\n",
       " 994732   00:11:26\n",
       " 994733   00:03:01\n",
       " 994734   00:11:47\n",
       " 994735   00:13:30\n",
       " 994736   00:29:13\n",
       " 994737   00:13:15\n",
       " 994738   00:13:51\n",
       " 994739   00:12:27\n",
       " 994740   00:05:53\n",
       " 994741   00:11:46\n",
       " 994742   00:06:58\n",
       " Length: 994743, dtype: timedelta64[ns]]"
      ]
     },
     "execution_count": 17,
     "metadata": {},
     "output_type": "execute_result"
    }
   ],
   "source": [
    "list_data"
   ]
  },
  {
   "cell_type": "code",
   "execution_count": 16,
   "metadata": {},
   "outputs": [
    {
     "data": {
      "text/plain": [
       "6"
      ]
     },
     "execution_count": 16,
     "metadata": {},
     "output_type": "execute_result"
    }
   ],
   "source": [
    "len(list_data)"
   ]
  },
  {
   "cell_type": "code",
   "execution_count": 9,
   "metadata": {},
   "outputs": [
    {
     "data": {
      "text/html": [
       "<div>\n",
       "<style>\n",
       "    .dataframe thead tr:only-child th {\n",
       "        text-align: right;\n",
       "    }\n",
       "\n",
       "    .dataframe thead th {\n",
       "        text-align: left;\n",
       "    }\n",
       "\n",
       "    .dataframe tbody tr th {\n",
       "        vertical-align: top;\n",
       "    }\n",
       "</style>\n",
       "<table border=\"1\" class=\"dataframe\">\n",
       "  <thead>\n",
       "    <tr style=\"text-align: right;\">\n",
       "      <th></th>\n",
       "      <th>0</th>\n",
       "      <th>1</th>\n",
       "      <th>2</th>\n",
       "      <th>3</th>\n",
       "      <th>4</th>\n",
       "      <th>5</th>\n",
       "      <th>6</th>\n",
       "      <th>7</th>\n",
       "      <th>8</th>\n",
       "      <th>9</th>\n",
       "      <th>...</th>\n",
       "      <th>1670493</th>\n",
       "      <th>1670494</th>\n",
       "      <th>1670495</th>\n",
       "      <th>1670496</th>\n",
       "      <th>1670497</th>\n",
       "      <th>1670498</th>\n",
       "      <th>1670499</th>\n",
       "      <th>1670500</th>\n",
       "      <th>1670501</th>\n",
       "      <th>1670502</th>\n",
       "    </tr>\n",
       "  </thead>\n",
       "  <tbody>\n",
       "    <tr>\n",
       "      <th>duration_January</th>\n",
       "      <td>00:05:46</td>\n",
       "      <td>00:24:39</td>\n",
       "      <td>00:04:13</td>\n",
       "      <td>00:05:56</td>\n",
       "      <td>00:03:32</td>\n",
       "      <td>00:13:22</td>\n",
       "      <td>00:28:28</td>\n",
       "      <td>00:01:23</td>\n",
       "      <td>00:20:22</td>\n",
       "      <td>00:15:34</td>\n",
       "      <td>...</td>\n",
       "      <td>NaT</td>\n",
       "      <td>NaT</td>\n",
       "      <td>NaT</td>\n",
       "      <td>NaT</td>\n",
       "      <td>NaT</td>\n",
       "      <td>NaT</td>\n",
       "      <td>NaT</td>\n",
       "      <td>NaT</td>\n",
       "      <td>NaT</td>\n",
       "      <td>NaT</td>\n",
       "    </tr>\n",
       "    <tr>\n",
       "      <th>duration_February</th>\n",
       "      <td>00:07:58</td>\n",
       "      <td>00:15:02</td>\n",
       "      <td>00:03:50</td>\n",
       "      <td>00:08:14</td>\n",
       "      <td>00:23:45</td>\n",
       "      <td>00:17:29</td>\n",
       "      <td>00:07:40</td>\n",
       "      <td>00:19:51</td>\n",
       "      <td>00:03:11</td>\n",
       "      <td>00:09:54</td>\n",
       "      <td>...</td>\n",
       "      <td>NaT</td>\n",
       "      <td>NaT</td>\n",
       "      <td>NaT</td>\n",
       "      <td>NaT</td>\n",
       "      <td>NaT</td>\n",
       "      <td>NaT</td>\n",
       "      <td>NaT</td>\n",
       "      <td>NaT</td>\n",
       "      <td>NaT</td>\n",
       "      <td>NaT</td>\n",
       "    </tr>\n",
       "    <tr>\n",
       "      <th>duration_March</th>\n",
       "      <td>00:11:55</td>\n",
       "      <td>00:14:07</td>\n",
       "      <td>00:11:57</td>\n",
       "      <td>00:24:50</td>\n",
       "      <td>00:10:33</td>\n",
       "      <td>00:03:19</td>\n",
       "      <td>00:12:36</td>\n",
       "      <td>00:20:35</td>\n",
       "      <td>00:12:04</td>\n",
       "      <td>00:09:00</td>\n",
       "      <td>...</td>\n",
       "      <td>00:01:20</td>\n",
       "      <td>00:15:15</td>\n",
       "      <td>00:20:34</td>\n",
       "      <td>00:30:36</td>\n",
       "      <td>00:04:24</td>\n",
       "      <td>00:20:30</td>\n",
       "      <td>00:10:32</td>\n",
       "      <td>00:14:31</td>\n",
       "      <td>00:12:54</td>\n",
       "      <td>00:19:42</td>\n",
       "    </tr>\n",
       "    <tr>\n",
       "      <th>duration_April</th>\n",
       "      <td>00:03:22</td>\n",
       "      <td>00:05:56</td>\n",
       "      <td>00:16:02</td>\n",
       "      <td>00:06:10</td>\n",
       "      <td>00:22:21</td>\n",
       "      <td>00:13:21</td>\n",
       "      <td>00:09:02</td>\n",
       "      <td>00:16:37</td>\n",
       "      <td>00:08:04</td>\n",
       "      <td>00:02:39</td>\n",
       "      <td>...</td>\n",
       "      <td>NaT</td>\n",
       "      <td>NaT</td>\n",
       "      <td>NaT</td>\n",
       "      <td>NaT</td>\n",
       "      <td>NaT</td>\n",
       "      <td>NaT</td>\n",
       "      <td>NaT</td>\n",
       "      <td>NaT</td>\n",
       "      <td>NaT</td>\n",
       "      <td>NaT</td>\n",
       "    </tr>\n",
       "    <tr>\n",
       "      <th>duration_May</th>\n",
       "      <td>00:29:36</td>\n",
       "      <td>00:04:54</td>\n",
       "      <td>00:10:09</td>\n",
       "      <td>02:03:19</td>\n",
       "      <td>00:02:12</td>\n",
       "      <td>00:14:10</td>\n",
       "      <td>00:21:21</td>\n",
       "      <td>00:04:45</td>\n",
       "      <td>00:20:19</td>\n",
       "      <td>00:03:46</td>\n",
       "      <td>...</td>\n",
       "      <td>NaT</td>\n",
       "      <td>NaT</td>\n",
       "      <td>NaT</td>\n",
       "      <td>NaT</td>\n",
       "      <td>NaT</td>\n",
       "      <td>NaT</td>\n",
       "      <td>NaT</td>\n",
       "      <td>NaT</td>\n",
       "      <td>NaT</td>\n",
       "      <td>NaT</td>\n",
       "    </tr>\n",
       "    <tr>\n",
       "      <th>duration_June</th>\n",
       "      <td>00:22:07</td>\n",
       "      <td>00:17:41</td>\n",
       "      <td>00:11:58</td>\n",
       "      <td>00:00:00</td>\n",
       "      <td>00:13:06</td>\n",
       "      <td>00:27:42</td>\n",
       "      <td>00:26:14</td>\n",
       "      <td>00:03:09</td>\n",
       "      <td>00:04:39</td>\n",
       "      <td>00:12:56</td>\n",
       "      <td>...</td>\n",
       "      <td>NaT</td>\n",
       "      <td>NaT</td>\n",
       "      <td>NaT</td>\n",
       "      <td>NaT</td>\n",
       "      <td>NaT</td>\n",
       "      <td>NaT</td>\n",
       "      <td>NaT</td>\n",
       "      <td>NaT</td>\n",
       "      <td>NaT</td>\n",
       "      <td>NaT</td>\n",
       "    </tr>\n",
       "  </tbody>\n",
       "</table>\n",
       "<p>6 rows × 1670503 columns</p>\n",
       "</div>"
      ],
      "text/plain": [
       "                   0        1        2        3        4        5        \\\n",
       "duration_January  00:05:46 00:24:39 00:04:13 00:05:56 00:03:32 00:13:22   \n",
       "duration_February 00:07:58 00:15:02 00:03:50 00:08:14 00:23:45 00:17:29   \n",
       "duration_March    00:11:55 00:14:07 00:11:57 00:24:50 00:10:33 00:03:19   \n",
       "duration_April    00:03:22 00:05:56 00:16:02 00:06:10 00:22:21 00:13:21   \n",
       "duration_May      00:29:36 00:04:54 00:10:09 02:03:19 00:02:12 00:14:10   \n",
       "duration_June     00:22:07 00:17:41 00:11:58 00:00:00 00:13:06 00:27:42   \n",
       "\n",
       "                   6        7        8        9         ...     1670493  \\\n",
       "duration_January  00:28:28 00:01:23 00:20:22 00:15:34   ...         NaT   \n",
       "duration_February 00:07:40 00:19:51 00:03:11 00:09:54   ...         NaT   \n",
       "duration_March    00:12:36 00:20:35 00:12:04 00:09:00   ...    00:01:20   \n",
       "duration_April    00:09:02 00:16:37 00:08:04 00:02:39   ...         NaT   \n",
       "duration_May      00:21:21 00:04:45 00:20:19 00:03:46   ...         NaT   \n",
       "duration_June     00:26:14 00:03:09 00:04:39 00:12:56   ...         NaT   \n",
       "\n",
       "                   1670494  1670495  1670496  1670497  1670498  1670499  \\\n",
       "duration_January       NaT      NaT      NaT      NaT      NaT      NaT   \n",
       "duration_February      NaT      NaT      NaT      NaT      NaT      NaT   \n",
       "duration_March    00:15:15 00:20:34 00:30:36 00:04:24 00:20:30 00:10:32   \n",
       "duration_April         NaT      NaT      NaT      NaT      NaT      NaT   \n",
       "duration_May           NaT      NaT      NaT      NaT      NaT      NaT   \n",
       "duration_June          NaT      NaT      NaT      NaT      NaT      NaT   \n",
       "\n",
       "                   1670500  1670501  1670502  \n",
       "duration_January       NaT      NaT      NaT  \n",
       "duration_February      NaT      NaT      NaT  \n",
       "duration_March    00:14:31 00:12:54 00:19:42  \n",
       "duration_April         NaT      NaT      NaT  \n",
       "duration_May           NaT      NaT      NaT  \n",
       "duration_June          NaT      NaT      NaT  \n",
       "\n",
       "[6 rows x 1670503 columns]"
      ]
     },
     "execution_count": 9,
     "metadata": {},
     "output_type": "execute_result"
    }
   ],
   "source": [
    "all_durs"
   ]
  },
  {
   "cell_type": "code",
   "execution_count": 6,
   "metadata": {},
   "outputs": [
    {
     "ename": "MemoryError",
     "evalue": "",
     "output_type": "error",
     "traceback": [
      "\u001b[1;31m---------------------------------------------------------------------------\u001b[0m",
      "\u001b[1;31mMemoryError\u001b[0m                               Traceback (most recent call last)",
      "\u001b[1;32m<ipython-input-6-43932cfbcc9d>\u001b[0m in \u001b[0;36m<module>\u001b[1;34m()\u001b[0m\n\u001b[0;32m      9\u001b[0m \u001b[0mall_durs\u001b[0m\u001b[1;33m=\u001b[0m\u001b[0mall_durs\u001b[0m\u001b[1;33m.\u001b[0m\u001b[0mappend\u001b[0m\u001b[1;33m(\u001b[0m\u001b[0mlist_data\u001b[0m\u001b[1;33m)\u001b[0m\u001b[1;33m\u001b[0m\u001b[0m\n\u001b[0;32m     10\u001b[0m \u001b[1;33m\u001b[0m\u001b[0m\n\u001b[1;32m---> 11\u001b[1;33m \u001b[0max\u001b[0m \u001b[1;33m=\u001b[0m \u001b[0msns\u001b[0m\u001b[1;33m.\u001b[0m\u001b[0mdistplot\u001b[0m\u001b[1;33m(\u001b[0m\u001b[0mall_durs\u001b[0m\u001b[1;33m,\u001b[0m \u001b[0mkde\u001b[0m\u001b[1;33m=\u001b[0m\u001b[1;32mFalse\u001b[0m\u001b[1;33m,\u001b[0m \u001b[0mrug\u001b[0m\u001b[1;33m=\u001b[0m\u001b[1;32mTrue\u001b[0m\u001b[1;33m)\u001b[0m\u001b[1;33m\u001b[0m\u001b[0m\n\u001b[0m\u001b[0;32m     12\u001b[0m \u001b[1;31m#  return ax\u001b[0m\u001b[1;33m\u001b[0m\u001b[1;33m\u001b[0m\u001b[0m\n",
      "\u001b[1;32mC:\\Users\\Dusica\\Anaconda3\\lib\\site-packages\\seaborn\\distributions.py\u001b[0m in \u001b[0;36mdistplot\u001b[1;34m(a, bins, hist, kde, rug, fit, hist_kws, kde_kws, rug_kws, fit_kws, color, vertical, norm_hist, axlabel, label, ax)\u001b[0m\n\u001b[0;32m    169\u001b[0m \u001b[1;33m\u001b[0m\u001b[0m\n\u001b[0;32m    170\u001b[0m     \u001b[1;31m# Make a a 1-d array\u001b[0m\u001b[1;33m\u001b[0m\u001b[1;33m\u001b[0m\u001b[0m\n\u001b[1;32m--> 171\u001b[1;33m     \u001b[0ma\u001b[0m \u001b[1;33m=\u001b[0m \u001b[0mnp\u001b[0m\u001b[1;33m.\u001b[0m\u001b[0masarray\u001b[0m\u001b[1;33m(\u001b[0m\u001b[0ma\u001b[0m\u001b[1;33m)\u001b[0m\u001b[1;33m.\u001b[0m\u001b[0msqueeze\u001b[0m\u001b[1;33m(\u001b[0m\u001b[1;33m)\u001b[0m\u001b[1;33m\u001b[0m\u001b[0m\n\u001b[0m\u001b[0;32m    172\u001b[0m \u001b[1;33m\u001b[0m\u001b[0m\n\u001b[0;32m    173\u001b[0m     \u001b[1;31m# Decide if the hist is normed\u001b[0m\u001b[1;33m\u001b[0m\u001b[1;33m\u001b[0m\u001b[0m\n",
      "\u001b[1;32mC:\\Users\\Dusica\\Anaconda3\\lib\\site-packages\\numpy\\core\\numeric.py\u001b[0m in \u001b[0;36masarray\u001b[1;34m(a, dtype, order)\u001b[0m\n\u001b[0;32m    490\u001b[0m \u001b[1;33m\u001b[0m\u001b[0m\n\u001b[0;32m    491\u001b[0m     \"\"\"\n\u001b[1;32m--> 492\u001b[1;33m     \u001b[1;32mreturn\u001b[0m \u001b[0marray\u001b[0m\u001b[1;33m(\u001b[0m\u001b[0ma\u001b[0m\u001b[1;33m,\u001b[0m \u001b[0mdtype\u001b[0m\u001b[1;33m,\u001b[0m \u001b[0mcopy\u001b[0m\u001b[1;33m=\u001b[0m\u001b[1;32mFalse\u001b[0m\u001b[1;33m,\u001b[0m \u001b[0morder\u001b[0m\u001b[1;33m=\u001b[0m\u001b[0morder\u001b[0m\u001b[1;33m)\u001b[0m\u001b[1;33m\u001b[0m\u001b[0m\n\u001b[0m\u001b[0;32m    493\u001b[0m \u001b[1;33m\u001b[0m\u001b[0m\n\u001b[0;32m    494\u001b[0m \u001b[1;33m\u001b[0m\u001b[0m\n",
      "\u001b[1;32mC:\\Users\\Dusica\\Anaconda3\\lib\\site-packages\\pandas\\core\\generic.py\u001b[0m in \u001b[0;36m__array__\u001b[1;34m(self, dtype)\u001b[0m\n\u001b[0;32m    983\u001b[0m \u001b[1;33m\u001b[0m\u001b[0m\n\u001b[0;32m    984\u001b[0m     \u001b[1;32mdef\u001b[0m \u001b[0m__array__\u001b[0m\u001b[1;33m(\u001b[0m\u001b[0mself\u001b[0m\u001b[1;33m,\u001b[0m \u001b[0mdtype\u001b[0m\u001b[1;33m=\u001b[0m\u001b[1;32mNone\u001b[0m\u001b[1;33m)\u001b[0m\u001b[1;33m:\u001b[0m\u001b[1;33m\u001b[0m\u001b[0m\n\u001b[1;32m--> 985\u001b[1;33m         \u001b[1;32mreturn\u001b[0m \u001b[0m_values_from_object\u001b[0m\u001b[1;33m(\u001b[0m\u001b[0mself\u001b[0m\u001b[1;33m)\u001b[0m\u001b[1;33m\u001b[0m\u001b[0m\n\u001b[0m\u001b[0;32m    986\u001b[0m \u001b[1;33m\u001b[0m\u001b[0m\n\u001b[0;32m    987\u001b[0m     \u001b[1;32mdef\u001b[0m \u001b[0m__array_wrap__\u001b[0m\u001b[1;33m(\u001b[0m\u001b[0mself\u001b[0m\u001b[1;33m,\u001b[0m \u001b[0mresult\u001b[0m\u001b[1;33m,\u001b[0m \u001b[0mcontext\u001b[0m\u001b[1;33m=\u001b[0m\u001b[1;32mNone\u001b[0m\u001b[1;33m)\u001b[0m\u001b[1;33m:\u001b[0m\u001b[1;33m\u001b[0m\u001b[0m\n",
      "\u001b[1;32mpandas\\_libs\\lib.pyx\u001b[0m in \u001b[0;36mpandas._libs.lib.values_from_object\u001b[1;34m()\u001b[0m\n",
      "\u001b[1;32mC:\\Users\\Dusica\\Anaconda3\\lib\\site-packages\\pandas\\core\\generic.py\u001b[0m in \u001b[0;36mget_values\u001b[1;34m(self)\u001b[0m\n\u001b[0;32m   3284\u001b[0m     \u001b[1;32mdef\u001b[0m \u001b[0mget_values\u001b[0m\u001b[1;33m(\u001b[0m\u001b[0mself\u001b[0m\u001b[1;33m)\u001b[0m\u001b[1;33m:\u001b[0m\u001b[1;33m\u001b[0m\u001b[0m\n\u001b[0;32m   3285\u001b[0m         \u001b[1;34m\"\"\"same as values (but handles sparseness conversions)\"\"\"\u001b[0m\u001b[1;33m\u001b[0m\u001b[0m\n\u001b[1;32m-> 3286\u001b[1;33m         \u001b[1;32mreturn\u001b[0m \u001b[0mself\u001b[0m\u001b[1;33m.\u001b[0m\u001b[0mas_matrix\u001b[0m\u001b[1;33m(\u001b[0m\u001b[1;33m)\u001b[0m\u001b[1;33m\u001b[0m\u001b[0m\n\u001b[0m\u001b[0;32m   3287\u001b[0m \u001b[1;33m\u001b[0m\u001b[0m\n\u001b[0;32m   3288\u001b[0m     \u001b[1;32mdef\u001b[0m \u001b[0mget_dtype_counts\u001b[0m\u001b[1;33m(\u001b[0m\u001b[0mself\u001b[0m\u001b[1;33m)\u001b[0m\u001b[1;33m:\u001b[0m\u001b[1;33m\u001b[0m\u001b[0m\n",
      "\u001b[1;32mC:\\Users\\Dusica\\Anaconda3\\lib\\site-packages\\pandas\\core\\generic.py\u001b[0m in \u001b[0;36mas_matrix\u001b[1;34m(self, columns)\u001b[0m\n\u001b[0;32m   3249\u001b[0m         \u001b[0mpandas\u001b[0m\u001b[1;33m.\u001b[0m\u001b[0mDataFrame\u001b[0m\u001b[1;33m.\u001b[0m\u001b[0mvalues\u001b[0m\u001b[1;33m\u001b[0m\u001b[0m\n\u001b[0;32m   3250\u001b[0m         \"\"\"\n\u001b[1;32m-> 3251\u001b[1;33m         \u001b[0mself\u001b[0m\u001b[1;33m.\u001b[0m\u001b[0m_consolidate_inplace\u001b[0m\u001b[1;33m(\u001b[0m\u001b[1;33m)\u001b[0m\u001b[1;33m\u001b[0m\u001b[0m\n\u001b[0m\u001b[0;32m   3252\u001b[0m         \u001b[1;32mif\u001b[0m \u001b[0mself\u001b[0m\u001b[1;33m.\u001b[0m\u001b[0m_AXIS_REVERSED\u001b[0m\u001b[1;33m:\u001b[0m\u001b[1;33m\u001b[0m\u001b[0m\n\u001b[0;32m   3253\u001b[0m             \u001b[1;32mreturn\u001b[0m \u001b[0mself\u001b[0m\u001b[1;33m.\u001b[0m\u001b[0m_data\u001b[0m\u001b[1;33m.\u001b[0m\u001b[0mas_matrix\u001b[0m\u001b[1;33m(\u001b[0m\u001b[0mcolumns\u001b[0m\u001b[1;33m)\u001b[0m\u001b[1;33m.\u001b[0m\u001b[0mT\u001b[0m\u001b[1;33m\u001b[0m\u001b[0m\n",
      "\u001b[1;32mC:\\Users\\Dusica\\Anaconda3\\lib\\site-packages\\pandas\\core\\generic.py\u001b[0m in \u001b[0;36m_consolidate_inplace\u001b[1;34m(self)\u001b[0m\n\u001b[0;32m   3136\u001b[0m             \u001b[0mself\u001b[0m\u001b[1;33m.\u001b[0m\u001b[0m_data\u001b[0m \u001b[1;33m=\u001b[0m \u001b[0mself\u001b[0m\u001b[1;33m.\u001b[0m\u001b[0m_data\u001b[0m\u001b[1;33m.\u001b[0m\u001b[0mconsolidate\u001b[0m\u001b[1;33m(\u001b[0m\u001b[1;33m)\u001b[0m\u001b[1;33m\u001b[0m\u001b[0m\n\u001b[0;32m   3137\u001b[0m \u001b[1;33m\u001b[0m\u001b[0m\n\u001b[1;32m-> 3138\u001b[1;33m         \u001b[0mself\u001b[0m\u001b[1;33m.\u001b[0m\u001b[0m_protect_consolidate\u001b[0m\u001b[1;33m(\u001b[0m\u001b[0mf\u001b[0m\u001b[1;33m)\u001b[0m\u001b[1;33m\u001b[0m\u001b[0m\n\u001b[0m\u001b[0;32m   3139\u001b[0m \u001b[1;33m\u001b[0m\u001b[0m\n\u001b[0;32m   3140\u001b[0m     \u001b[1;32mdef\u001b[0m \u001b[0m_consolidate\u001b[0m\u001b[1;33m(\u001b[0m\u001b[0mself\u001b[0m\u001b[1;33m,\u001b[0m \u001b[0minplace\u001b[0m\u001b[1;33m=\u001b[0m\u001b[1;32mFalse\u001b[0m\u001b[1;33m)\u001b[0m\u001b[1;33m:\u001b[0m\u001b[1;33m\u001b[0m\u001b[0m\n",
      "\u001b[1;32mC:\\Users\\Dusica\\Anaconda3\\lib\\site-packages\\pandas\\core\\generic.py\u001b[0m in \u001b[0;36m_protect_consolidate\u001b[1;34m(self, f)\u001b[0m\n\u001b[0;32m   3125\u001b[0m         \"\"\"\n\u001b[0;32m   3126\u001b[0m         \u001b[0mblocks_before\u001b[0m \u001b[1;33m=\u001b[0m \u001b[0mlen\u001b[0m\u001b[1;33m(\u001b[0m\u001b[0mself\u001b[0m\u001b[1;33m.\u001b[0m\u001b[0m_data\u001b[0m\u001b[1;33m.\u001b[0m\u001b[0mblocks\u001b[0m\u001b[1;33m)\u001b[0m\u001b[1;33m\u001b[0m\u001b[0m\n\u001b[1;32m-> 3127\u001b[1;33m         \u001b[0mresult\u001b[0m \u001b[1;33m=\u001b[0m \u001b[0mf\u001b[0m\u001b[1;33m(\u001b[0m\u001b[1;33m)\u001b[0m\u001b[1;33m\u001b[0m\u001b[0m\n\u001b[0m\u001b[0;32m   3128\u001b[0m         \u001b[1;32mif\u001b[0m \u001b[0mlen\u001b[0m\u001b[1;33m(\u001b[0m\u001b[0mself\u001b[0m\u001b[1;33m.\u001b[0m\u001b[0m_data\u001b[0m\u001b[1;33m.\u001b[0m\u001b[0mblocks\u001b[0m\u001b[1;33m)\u001b[0m \u001b[1;33m!=\u001b[0m \u001b[0mblocks_before\u001b[0m\u001b[1;33m:\u001b[0m\u001b[1;33m\u001b[0m\u001b[0m\n\u001b[0;32m   3129\u001b[0m             \u001b[0mself\u001b[0m\u001b[1;33m.\u001b[0m\u001b[0m_clear_item_cache\u001b[0m\u001b[1;33m(\u001b[0m\u001b[1;33m)\u001b[0m\u001b[1;33m\u001b[0m\u001b[0m\n",
      "\u001b[1;32mC:\\Users\\Dusica\\Anaconda3\\lib\\site-packages\\pandas\\core\\generic.py\u001b[0m in \u001b[0;36mf\u001b[1;34m()\u001b[0m\n\u001b[0;32m   3134\u001b[0m \u001b[1;33m\u001b[0m\u001b[0m\n\u001b[0;32m   3135\u001b[0m         \u001b[1;32mdef\u001b[0m \u001b[0mf\u001b[0m\u001b[1;33m(\u001b[0m\u001b[1;33m)\u001b[0m\u001b[1;33m:\u001b[0m\u001b[1;33m\u001b[0m\u001b[0m\n\u001b[1;32m-> 3136\u001b[1;33m             \u001b[0mself\u001b[0m\u001b[1;33m.\u001b[0m\u001b[0m_data\u001b[0m \u001b[1;33m=\u001b[0m \u001b[0mself\u001b[0m\u001b[1;33m.\u001b[0m\u001b[0m_data\u001b[0m\u001b[1;33m.\u001b[0m\u001b[0mconsolidate\u001b[0m\u001b[1;33m(\u001b[0m\u001b[1;33m)\u001b[0m\u001b[1;33m\u001b[0m\u001b[0m\n\u001b[0m\u001b[0;32m   3137\u001b[0m \u001b[1;33m\u001b[0m\u001b[0m\n\u001b[0;32m   3138\u001b[0m         \u001b[0mself\u001b[0m\u001b[1;33m.\u001b[0m\u001b[0m_protect_consolidate\u001b[0m\u001b[1;33m(\u001b[0m\u001b[0mf\u001b[0m\u001b[1;33m)\u001b[0m\u001b[1;33m\u001b[0m\u001b[0m\n",
      "\u001b[1;32mC:\\Users\\Dusica\\Anaconda3\\lib\\site-packages\\pandas\\core\\internals.py\u001b[0m in \u001b[0;36mconsolidate\u001b[1;34m(self)\u001b[0m\n\u001b[0;32m   3571\u001b[0m         \u001b[0mbm\u001b[0m \u001b[1;33m=\u001b[0m \u001b[0mself\u001b[0m\u001b[1;33m.\u001b[0m\u001b[0m__class__\u001b[0m\u001b[1;33m(\u001b[0m\u001b[0mself\u001b[0m\u001b[1;33m.\u001b[0m\u001b[0mblocks\u001b[0m\u001b[1;33m,\u001b[0m \u001b[0mself\u001b[0m\u001b[1;33m.\u001b[0m\u001b[0maxes\u001b[0m\u001b[1;33m)\u001b[0m\u001b[1;33m\u001b[0m\u001b[0m\n\u001b[0;32m   3572\u001b[0m         \u001b[0mbm\u001b[0m\u001b[1;33m.\u001b[0m\u001b[0m_is_consolidated\u001b[0m \u001b[1;33m=\u001b[0m \u001b[1;32mFalse\u001b[0m\u001b[1;33m\u001b[0m\u001b[0m\n\u001b[1;32m-> 3573\u001b[1;33m         \u001b[0mbm\u001b[0m\u001b[1;33m.\u001b[0m\u001b[0m_consolidate_inplace\u001b[0m\u001b[1;33m(\u001b[0m\u001b[1;33m)\u001b[0m\u001b[1;33m\u001b[0m\u001b[0m\n\u001b[0m\u001b[0;32m   3574\u001b[0m         \u001b[1;32mreturn\u001b[0m \u001b[0mbm\u001b[0m\u001b[1;33m\u001b[0m\u001b[0m\n\u001b[0;32m   3575\u001b[0m \u001b[1;33m\u001b[0m\u001b[0m\n",
      "\u001b[1;32mC:\\Users\\Dusica\\Anaconda3\\lib\\site-packages\\pandas\\core\\internals.py\u001b[0m in \u001b[0;36m_consolidate_inplace\u001b[1;34m(self)\u001b[0m\n\u001b[0;32m   3576\u001b[0m     \u001b[1;32mdef\u001b[0m \u001b[0m_consolidate_inplace\u001b[0m\u001b[1;33m(\u001b[0m\u001b[0mself\u001b[0m\u001b[1;33m)\u001b[0m\u001b[1;33m:\u001b[0m\u001b[1;33m\u001b[0m\u001b[0m\n\u001b[0;32m   3577\u001b[0m         \u001b[1;32mif\u001b[0m \u001b[1;32mnot\u001b[0m \u001b[0mself\u001b[0m\u001b[1;33m.\u001b[0m\u001b[0mis_consolidated\u001b[0m\u001b[1;33m(\u001b[0m\u001b[1;33m)\u001b[0m\u001b[1;33m:\u001b[0m\u001b[1;33m\u001b[0m\u001b[0m\n\u001b[1;32m-> 3578\u001b[1;33m             \u001b[0mself\u001b[0m\u001b[1;33m.\u001b[0m\u001b[0mblocks\u001b[0m \u001b[1;33m=\u001b[0m \u001b[0mtuple\u001b[0m\u001b[1;33m(\u001b[0m\u001b[0m_consolidate\u001b[0m\u001b[1;33m(\u001b[0m\u001b[0mself\u001b[0m\u001b[1;33m.\u001b[0m\u001b[0mblocks\u001b[0m\u001b[1;33m)\u001b[0m\u001b[1;33m)\u001b[0m\u001b[1;33m\u001b[0m\u001b[0m\n\u001b[0m\u001b[0;32m   3579\u001b[0m             \u001b[0mself\u001b[0m\u001b[1;33m.\u001b[0m\u001b[0m_is_consolidated\u001b[0m \u001b[1;33m=\u001b[0m \u001b[1;32mTrue\u001b[0m\u001b[1;33m\u001b[0m\u001b[0m\n\u001b[0;32m   3580\u001b[0m             \u001b[0mself\u001b[0m\u001b[1;33m.\u001b[0m\u001b[0m_known_consolidated\u001b[0m \u001b[1;33m=\u001b[0m \u001b[1;32mTrue\u001b[0m\u001b[1;33m\u001b[0m\u001b[0m\n",
      "\u001b[1;32mC:\\Users\\Dusica\\Anaconda3\\lib\\site-packages\\pandas\\core\\internals.py\u001b[0m in \u001b[0;36m_consolidate\u001b[1;34m(blocks)\u001b[0m\n\u001b[0;32m   4523\u001b[0m     \u001b[1;32mfor\u001b[0m \u001b[1;33m(\u001b[0m\u001b[0m_can_consolidate\u001b[0m\u001b[1;33m,\u001b[0m \u001b[0mdtype\u001b[0m\u001b[1;33m)\u001b[0m\u001b[1;33m,\u001b[0m \u001b[0mgroup_blocks\u001b[0m \u001b[1;32min\u001b[0m \u001b[0mgrouper\u001b[0m\u001b[1;33m:\u001b[0m\u001b[1;33m\u001b[0m\u001b[0m\n\u001b[0;32m   4524\u001b[0m         merged_blocks = _merge_blocks(list(group_blocks), dtype=dtype,\n\u001b[1;32m-> 4525\u001b[1;33m                                       _can_consolidate=_can_consolidate)\n\u001b[0m\u001b[0;32m   4526\u001b[0m         \u001b[0mnew_blocks\u001b[0m \u001b[1;33m=\u001b[0m \u001b[0m_extend_blocks\u001b[0m\u001b[1;33m(\u001b[0m\u001b[0mmerged_blocks\u001b[0m\u001b[1;33m,\u001b[0m \u001b[0mnew_blocks\u001b[0m\u001b[1;33m)\u001b[0m\u001b[1;33m\u001b[0m\u001b[0m\n\u001b[0;32m   4527\u001b[0m     \u001b[1;32mreturn\u001b[0m \u001b[0mnew_blocks\u001b[0m\u001b[1;33m\u001b[0m\u001b[0m\n",
      "\u001b[1;32mC:\\Users\\Dusica\\Anaconda3\\lib\\site-packages\\pandas\\core\\internals.py\u001b[0m in \u001b[0;36m_merge_blocks\u001b[1;34m(blocks, dtype, _can_consolidate)\u001b[0m\n\u001b[0;32m   4543\u001b[0m         \u001b[1;31m# combination of those slices is a slice, too.\u001b[0m\u001b[1;33m\u001b[0m\u001b[1;33m\u001b[0m\u001b[0m\n\u001b[0;32m   4544\u001b[0m         \u001b[0mnew_mgr_locs\u001b[0m \u001b[1;33m=\u001b[0m \u001b[0mnp\u001b[0m\u001b[1;33m.\u001b[0m\u001b[0mconcatenate\u001b[0m\u001b[1;33m(\u001b[0m\u001b[1;33m[\u001b[0m\u001b[0mb\u001b[0m\u001b[1;33m.\u001b[0m\u001b[0mmgr_locs\u001b[0m\u001b[1;33m.\u001b[0m\u001b[0mas_array\u001b[0m \u001b[1;32mfor\u001b[0m \u001b[0mb\u001b[0m \u001b[1;32min\u001b[0m \u001b[0mblocks\u001b[0m\u001b[1;33m]\u001b[0m\u001b[1;33m)\u001b[0m\u001b[1;33m\u001b[0m\u001b[0m\n\u001b[1;32m-> 4545\u001b[1;33m         \u001b[0mnew_values\u001b[0m \u001b[1;33m=\u001b[0m \u001b[0m_vstack\u001b[0m\u001b[1;33m(\u001b[0m\u001b[1;33m[\u001b[0m\u001b[0mb\u001b[0m\u001b[1;33m.\u001b[0m\u001b[0mvalues\u001b[0m \u001b[1;32mfor\u001b[0m \u001b[0mb\u001b[0m \u001b[1;32min\u001b[0m \u001b[0mblocks\u001b[0m\u001b[1;33m]\u001b[0m\u001b[1;33m,\u001b[0m \u001b[0mdtype\u001b[0m\u001b[1;33m)\u001b[0m\u001b[1;33m\u001b[0m\u001b[0m\n\u001b[0m\u001b[0;32m   4546\u001b[0m \u001b[1;33m\u001b[0m\u001b[0m\n\u001b[0;32m   4547\u001b[0m         \u001b[0margsort\u001b[0m \u001b[1;33m=\u001b[0m \u001b[0mnp\u001b[0m\u001b[1;33m.\u001b[0m\u001b[0margsort\u001b[0m\u001b[1;33m(\u001b[0m\u001b[0mnew_mgr_locs\u001b[0m\u001b[1;33m)\u001b[0m\u001b[1;33m\u001b[0m\u001b[0m\n",
      "\u001b[1;32mC:\\Users\\Dusica\\Anaconda3\\lib\\site-packages\\pandas\\core\\internals.py\u001b[0m in \u001b[0;36m_vstack\u001b[1;34m(to_stack, dtype)\u001b[0m\n\u001b[0;32m   4585\u001b[0m     \u001b[1;31m# work around NumPy 1.6 bug\u001b[0m\u001b[1;33m\u001b[0m\u001b[1;33m\u001b[0m\u001b[0m\n\u001b[0;32m   4586\u001b[0m     \u001b[1;32mif\u001b[0m \u001b[0mdtype\u001b[0m \u001b[1;33m==\u001b[0m \u001b[0m_NS_DTYPE\u001b[0m \u001b[1;32mor\u001b[0m \u001b[0mdtype\u001b[0m \u001b[1;33m==\u001b[0m \u001b[0m_TD_DTYPE\u001b[0m\u001b[1;33m:\u001b[0m\u001b[1;33m\u001b[0m\u001b[0m\n\u001b[1;32m-> 4587\u001b[1;33m         \u001b[0mnew_values\u001b[0m \u001b[1;33m=\u001b[0m \u001b[0mnp\u001b[0m\u001b[1;33m.\u001b[0m\u001b[0mvstack\u001b[0m\u001b[1;33m(\u001b[0m\u001b[1;33m[\u001b[0m\u001b[0mx\u001b[0m\u001b[1;33m.\u001b[0m\u001b[0mview\u001b[0m\u001b[1;33m(\u001b[0m\u001b[1;34m'i8'\u001b[0m\u001b[1;33m)\u001b[0m \u001b[1;32mfor\u001b[0m \u001b[0mx\u001b[0m \u001b[1;32min\u001b[0m \u001b[0mto_stack\u001b[0m\u001b[1;33m]\u001b[0m\u001b[1;33m)\u001b[0m\u001b[1;33m\u001b[0m\u001b[0m\n\u001b[0m\u001b[0;32m   4588\u001b[0m         \u001b[1;32mreturn\u001b[0m \u001b[0mnew_values\u001b[0m\u001b[1;33m.\u001b[0m\u001b[0mview\u001b[0m\u001b[1;33m(\u001b[0m\u001b[0mdtype\u001b[0m\u001b[1;33m)\u001b[0m\u001b[1;33m\u001b[0m\u001b[0m\n\u001b[0;32m   4589\u001b[0m \u001b[1;33m\u001b[0m\u001b[0m\n",
      "\u001b[1;32mC:\\Users\\Dusica\\Anaconda3\\lib\\site-packages\\numpy\\core\\shape_base.py\u001b[0m in \u001b[0;36mvstack\u001b[1;34m(tup)\u001b[0m\n\u001b[0;32m    232\u001b[0m \u001b[1;33m\u001b[0m\u001b[0m\n\u001b[0;32m    233\u001b[0m     \"\"\"\n\u001b[1;32m--> 234\u001b[1;33m     \u001b[1;32mreturn\u001b[0m \u001b[0m_nx\u001b[0m\u001b[1;33m.\u001b[0m\u001b[0mconcatenate\u001b[0m\u001b[1;33m(\u001b[0m\u001b[1;33m[\u001b[0m\u001b[0matleast_2d\u001b[0m\u001b[1;33m(\u001b[0m\u001b[0m_m\u001b[0m\u001b[1;33m)\u001b[0m \u001b[1;32mfor\u001b[0m \u001b[0m_m\u001b[0m \u001b[1;32min\u001b[0m \u001b[0mtup\u001b[0m\u001b[1;33m]\u001b[0m\u001b[1;33m,\u001b[0m \u001b[1;36m0\u001b[0m\u001b[1;33m)\u001b[0m\u001b[1;33m\u001b[0m\u001b[0m\n\u001b[0m\u001b[0;32m    235\u001b[0m \u001b[1;33m\u001b[0m\u001b[0m\n\u001b[0;32m    236\u001b[0m \u001b[1;32mdef\u001b[0m \u001b[0mhstack\u001b[0m\u001b[1;33m(\u001b[0m\u001b[0mtup\u001b[0m\u001b[1;33m)\u001b[0m\u001b[1;33m:\u001b[0m\u001b[1;33m\u001b[0m\u001b[0m\n",
      "\u001b[1;31mMemoryError\u001b[0m: "
     ]
    },
    {
     "data": {
      "image/png": "[encoded data removed]",
      "text/plain": [
       "<matplotlib.figure.Figure at 0xc395c70>"
      ]
     },
     "metadata": {},
     "output_type": "display_data"
    }
   ],
   "source": [
    "ax = sns.distplot(all_durs, kde=False, rug=True)"
   ]
  },
  {
   "cell_type": "code",
   "execution_count": 29,
   "metadata": {},
   "outputs": [
    {
     "data": {
      "text/html": [
       "<div>\n",
       "<style>\n",
       "    .dataframe thead tr:only-child th {\n",
       "        text-align: right;\n",
       "    }\n",
       "\n",
       "    .dataframe thead th {\n",
       "        text-align: left;\n",
       "    }\n",
       "\n",
       "    .dataframe tbody tr th {\n",
       "        vertical-align: top;\n",
       "    }\n",
       "</style>\n",
       "<table border=\"1\" class=\"dataframe\">\n",
       "  <thead>\n",
       "    <tr style=\"text-align: right;\">\n",
       "      <th></th>\n",
       "    </tr>\n",
       "  </thead>\n",
       "  <tbody>\n",
       "  </tbody>\n",
       "</table>\n",
       "</div>"
      ],
      "text/plain": [
       "Empty DataFrame\n",
       "Columns: []\n",
       "Index: []"
      ]
     },
     "execution_count": 29,
     "metadata": {},
     "output_type": "execute_result"
    }
   ],
   "source": [
    "all_durs"
   ]
  },
  {
   "cell_type": "code",
   "execution_count": 28,
   "metadata": {},
   "outputs": [
    {
     "name": "stderr",
     "output_type": "stream",
     "text": [
      "C:\\Users\\Dusica\\Anaconda3\\lib\\site-packages\\seaborn\\distributions.py:191: RuntimeWarning: Mean of empty slice.\n",
      "  line, = ax.plot(a.mean(), 0)\n",
      "C:\\Users\\Dusica\\Anaconda3\\lib\\site-packages\\numpy\\core\\_methods.py:80: RuntimeWarning: invalid value encountered in double_scalars\n",
      "  ret = ret.dtype.type(ret / rcount)\n"
     ]
    },
    {
     "ename": "ZeroDivisionError",
     "evalue": "float division by zero",
     "output_type": "error",
     "traceback": [
      "\u001b[1;31m---------------------------------------------------------------------------\u001b[0m",
      "\u001b[1;31mZeroDivisionError\u001b[0m                         Traceback (most recent call last)",
      "\u001b[1;32m<ipython-input-28-7a52491324b4>\u001b[0m in \u001b[0;36m<module>\u001b[1;34m()\u001b[0m\n\u001b[1;32m----> 1\u001b[1;33m \u001b[0max\u001b[0m \u001b[1;33m=\u001b[0m \u001b[0msns\u001b[0m\u001b[1;33m.\u001b[0m\u001b[0mdistplot\u001b[0m\u001b[1;33m(\u001b[0m\u001b[0mall_durs\u001b[0m\u001b[1;33m,\u001b[0m \u001b[0mkde\u001b[0m\u001b[1;33m=\u001b[0m\u001b[1;32mFalse\u001b[0m\u001b[1;33m,\u001b[0m \u001b[0mrug\u001b[0m\u001b[1;33m=\u001b[0m\u001b[1;32mTrue\u001b[0m\u001b[1;33m)\u001b[0m\u001b[1;33m\u001b[0m\u001b[0m\n\u001b[0m",
      "\u001b[1;32mC:\\Users\\Dusica\\Anaconda3\\lib\\site-packages\\seaborn\\distributions.py\u001b[0m in \u001b[0;36mdistplot\u001b[1;34m(a, bins, hist, kde, rug, fit, hist_kws, kde_kws, rug_kws, fit_kws, color, vertical, norm_hist, axlabel, label, ax)\u001b[0m\n\u001b[0;32m    206\u001b[0m     \u001b[1;32mif\u001b[0m \u001b[0mhist\u001b[0m\u001b[1;33m:\u001b[0m\u001b[1;33m\u001b[0m\u001b[0m\n\u001b[0;32m    207\u001b[0m         \u001b[1;32mif\u001b[0m \u001b[0mbins\u001b[0m \u001b[1;32mis\u001b[0m \u001b[1;32mNone\u001b[0m\u001b[1;33m:\u001b[0m\u001b[1;33m\u001b[0m\u001b[0m\n\u001b[1;32m--> 208\u001b[1;33m             \u001b[0mbins\u001b[0m \u001b[1;33m=\u001b[0m \u001b[0mmin\u001b[0m\u001b[1;33m(\u001b[0m\u001b[0m_freedman_diaconis_bins\u001b[0m\u001b[1;33m(\u001b[0m\u001b[0ma\u001b[0m\u001b[1;33m)\u001b[0m\u001b[1;33m,\u001b[0m \u001b[1;36m50\u001b[0m\u001b[1;33m)\u001b[0m\u001b[1;33m\u001b[0m\u001b[0m\n\u001b[0m\u001b[0;32m    209\u001b[0m         \u001b[0mhist_kws\u001b[0m\u001b[1;33m.\u001b[0m\u001b[0msetdefault\u001b[0m\u001b[1;33m(\u001b[0m\u001b[1;34m\"alpha\"\u001b[0m\u001b[1;33m,\u001b[0m \u001b[1;36m0.4\u001b[0m\u001b[1;33m)\u001b[0m\u001b[1;33m\u001b[0m\u001b[0m\n\u001b[0;32m    210\u001b[0m         \u001b[0mhist_kws\u001b[0m\u001b[1;33m.\u001b[0m\u001b[0msetdefault\u001b[0m\u001b[1;33m(\u001b[0m\u001b[1;34m\"normed\"\u001b[0m\u001b[1;33m,\u001b[0m \u001b[0mnorm_hist\u001b[0m\u001b[1;33m)\u001b[0m\u001b[1;33m\u001b[0m\u001b[0m\n",
      "\u001b[1;32mC:\\Users\\Dusica\\Anaconda3\\lib\\site-packages\\seaborn\\distributions.py\u001b[0m in \u001b[0;36m_freedman_diaconis_bins\u001b[1;34m(a)\u001b[0m\n\u001b[0;32m     27\u001b[0m     \u001b[1;31m# From http://stats.stackexchange.com/questions/798/\u001b[0m\u001b[1;33m\u001b[0m\u001b[1;33m\u001b[0m\u001b[0m\n\u001b[0;32m     28\u001b[0m     \u001b[0ma\u001b[0m \u001b[1;33m=\u001b[0m \u001b[0mnp\u001b[0m\u001b[1;33m.\u001b[0m\u001b[0masarray\u001b[0m\u001b[1;33m(\u001b[0m\u001b[0ma\u001b[0m\u001b[1;33m)\u001b[0m\u001b[1;33m\u001b[0m\u001b[0m\n\u001b[1;32m---> 29\u001b[1;33m     \u001b[0mh\u001b[0m \u001b[1;33m=\u001b[0m \u001b[1;36m2\u001b[0m \u001b[1;33m*\u001b[0m \u001b[0miqr\u001b[0m\u001b[1;33m(\u001b[0m\u001b[0ma\u001b[0m\u001b[1;33m)\u001b[0m \u001b[1;33m/\u001b[0m \u001b[1;33m(\u001b[0m\u001b[0mlen\u001b[0m\u001b[1;33m(\u001b[0m\u001b[0ma\u001b[0m\u001b[1;33m)\u001b[0m \u001b[1;33m**\u001b[0m \u001b[1;33m(\u001b[0m\u001b[1;36m1\u001b[0m \u001b[1;33m/\u001b[0m \u001b[1;36m3\u001b[0m\u001b[1;33m)\u001b[0m\u001b[1;33m)\u001b[0m\u001b[1;33m\u001b[0m\u001b[0m\n\u001b[0m\u001b[0;32m     30\u001b[0m     \u001b[1;31m# fall back to sqrt(a) bins if iqr is 0\u001b[0m\u001b[1;33m\u001b[0m\u001b[1;33m\u001b[0m\u001b[0m\n\u001b[0;32m     31\u001b[0m     \u001b[1;32mif\u001b[0m \u001b[0mh\u001b[0m \u001b[1;33m==\u001b[0m \u001b[1;36m0\u001b[0m\u001b[1;33m:\u001b[0m\u001b[1;33m\u001b[0m\u001b[0m\n",
      "\u001b[1;31mZeroDivisionError\u001b[0m: float division by zero"
     ]
    },
    {
     "data": {
      "image/png": "[encoded data removed]",
      "text/plain": [
       "<matplotlib.figure.Figure at 0x27e06290>"
      ]
     },
     "metadata": {},
     "output_type": "display_data"
    }
   ],
   "source": [
    "ax = sns.distplot(all_durs, kde=False, rug=True)"
   ]
  },
  {
   "cell_type": "code",
   "execution_count": null,
   "metadata": {},
   "outputs": [],
   "source": [
    "# for each borough "
   ]
  },
  {
   "cell_type": "markdown",
   "metadata": {},
   "source": [
    "## 3. [RQ3] Do the all trips last the same? "
   ]
  },
  {
   "cell_type": "markdown",
   "metadata": {},
   "source": [
    "# NYC"
   ]
  },
  {
   "cell_type": "code",
   "execution_count": null,
   "metadata": {},
   "outputs": [],
   "source": [
    "def DurationOfTrips():\n",
    "    all_durs=pd.DataFrame()\n",
    "    list_data=[]\n",
    "    for i,df enumerate (list_DataFrames):\n",
    "        num_of_days=df.iloc[-1]['tpep_pickup_datetime'].day\n",
    "        average_number_of_rides=df.loc[:,['Borough','PULocationID']].groupby('Borough').count()/num_of_days \n",
    "        average_number_of_rides['month']=i+1\n",
    "        list_data.append(average_number_of_rides)\n",
    "        merged['duration'] = merged['tpep_dropoff_datetime'] - merged['tpep_pickup_datetime']\n",
    "    average_num_for_all_months=average_num_for_all_months.append(list_data)\n",
    "    #average_num_for_all_months=pd.concat(list_data)\n",
    "   \n",
    "    fig, ax = plt.subplots()\n",
    "    # the size of A4 paper\n",
    "    fig.set_size_inches(11.7, 8.27)\n",
    "    ax = sns.barplot(y=\"PULocationID\", x=average_num_for_all_months.index, data=average_num_for_all_months\n",
    "                     ,hue='month')\n",
    "    return ax\n",
    "    #return average_num_for_all_months"
   ]
  },
  {
   "cell_type": "markdown",
   "metadata": {},
   "source": [
    "# For each borough"
   ]
  },
  {
   "cell_type": "code",
   "execution_count": null,
   "metadata": {},
   "outputs": [],
   "source": []
  },
  {
   "cell_type": "markdown",
   "metadata": {},
   "source": [
    "# Just for January"
   ]
  },
  {
   "cell_type": "code",
   "execution_count": null,
   "metadata": {},
   "outputs": [],
   "source": [
    "yellow_tripdata_january=pd.read_csv('data/yellow_tripdata_2018-01.csv',usecols=['PULocationID','tpep_pickup_datetime'],\n",
    "                                     parse_dates=['tpep_pickup_datetime'])\n",
    "\n",
    "merged = pd.merge(yellow_tripdata_january,taxi_zone_lookup, how=\"left\",left_on=\"PULocationID\",right_on=\"LocationID\")\n",
    "#for numbers of day for each month "
   ]
  },
  {
   "cell_type": "code",
   "execution_count": null,
   "metadata": {},
   "outputs": [],
   "source": [
    "#merged['tpep_pickup_datetime']=pd.to_datetime(merged['tpep_pickup_datetime'])"
   ]
  },
  {
   "cell_type": "markdown",
   "metadata": {},
   "source": [
    "Some values of dates aren't from the year they are supposed to be. Therefore, they should be removed from the dataset and exclude from the analysis. Even though it is small percentage of this large dataset, data should be cleaned by removing any incosistency and iregularity that is identified before starting with the analysis."
   ]
  },
  {
   "cell_type": "code",
   "execution_count": null,
   "metadata": {},
   "outputs": [],
   "source": [
    "irregular_years=merged.tpep_pickup_datetime[[merged.tpep_pickup_datetime[i].year!=2018 for i in range(len(merged['tpep_pickup_datetime']))]]"
   ]
  },
  {
   "cell_type": "code",
   "execution_count": null,
   "metadata": {},
   "outputs": [],
   "source": [
    "len(irregular_years)"
   ]
  },
  {
   "cell_type": "code",
   "execution_count": null,
   "metadata": {},
   "outputs": [],
   "source": [
    "irregular_years.head()"
   ]
  },
  {
   "cell_type": "code",
   "execution_count": null,
   "metadata": {},
   "outputs": [],
   "source": [
    "merged.tpep_pickup_datetime.shape"
   ]
  },
  {
   "cell_type": "code",
   "execution_count": null,
   "metadata": {},
   "outputs": [],
   "source": [
    "merged=merged[[merged.tpep_pickup_datetime[i].year==2018 for i in range(len(merged['tpep_pickup_datetime']))]]"
   ]
  },
  {
   "cell_type": "code",
   "execution_count": null,
   "metadata": {},
   "outputs": [],
   "source": [
    "merged.tpep_pickup_datetime.shape"
   ]
  },
  {
   "cell_type": "code",
   "execution_count": null,
   "metadata": {},
   "outputs": [],
   "source": [
    "np.unique(merged.Borough)"
   ]
  },
  {
   "cell_type": "code",
   "execution_count": null,
   "metadata": {
    "scrolled": true
   },
   "outputs": [],
   "source": [
    "num_of_days=merged.iloc[-1]['tpep_pickup_datetime'].day\n",
    "average_number_of_rides=merged.loc[:,['Borough','PULocationID']].groupby('Borough').count()/num_of_days\n",
    "\n",
    "average_number_of_rides"
   ]
  },
  {
   "cell_type": "code",
   "execution_count": null,
   "metadata": {},
   "outputs": [],
   "source": [
    "#What shall we do with this? :D\n",
    "len(merged[merged.Borough=='Unknown'])"
   ]
  },
  {
   "cell_type": "code",
   "execution_count": null,
   "metadata": {},
   "outputs": [],
   "source": [
    "average_number_of_rides.plot(kind='bar')"
   ]
  },
  {
   "cell_type": "code",
   "execution_count": null,
   "metadata": {},
   "outputs": [],
   "source": [
    "sns.set(style=\"whitegrid\")\n",
    "ax = sns.barplot(y=\"PULocationID\", x=average_number_of_rides.index, data=average_number_of_rides)"
   ]
  },
  {
   "cell_type": "code",
   "execution_count": null,
   "metadata": {},
   "outputs": [],
   "source": [
    "#below nothing useful "
   ]
  },
  {
   "cell_type": "code",
   "execution_count": null,
   "metadata": {},
   "outputs": [],
   "source": []
  },
  {
   "cell_type": "code",
   "execution_count": null,
   "metadata": {},
   "outputs": [],
   "source": [
    "#merged['tpep_pickup_datetime']=pd.to_datetime(merged['tpep_pickup_datetime'])"
   ]
  },
  {
   "cell_type": "code",
   "execution_count": null,
   "metadata": {},
   "outputs": [],
   "source": [
    "#merged.loc[:,['Borough','PULocationID','tpep_pickup_datetime']].groupby('Borough').count()"
   ]
  },
  {
   "cell_type": "code",
   "execution_count": null,
   "metadata": {},
   "outputs": [],
   "source": [
    "#average # of rides per day in January \n"
   ]
  },
  {
   "cell_type": "code",
   "execution_count": null,
   "metadata": {},
   "outputs": [],
   "source": [
    "#merged.loc[:,['Borough','PULocationID','tpep_pickup_datetime']].groupby('Borough').count()/num_of_days"
   ]
  },
  {
   "cell_type": "code",
   "execution_count": null,
   "metadata": {},
   "outputs": [],
   "source": [
    "#average_number_of_rides=merged.loc[:,['Borough','PULocationID']].groupby('Borough').count()/num_of_days"
   ]
  },
  {
   "cell_type": "code",
   "execution_count": null,
   "metadata": {},
   "outputs": [],
   "source": [
    "#merged.drop_duplicates()"
   ]
  },
  {
   "cell_type": "markdown",
   "metadata": {},
   "source": [
    "sns.set(style=\"whitegrid\")\n",
    "ax = sns.barplot(y=\"PULocationID\", x=average_number_of_rides.index, data=average_number_of_rides,hue=\"Borough\")"
   ]
  },
  {
   "cell_type": "code",
   "execution_count": null,
   "metadata": {},
   "outputs": [],
   "source": [
    "merged['tpep_pickup_datetime']=pd.to_datetime(merged['tpep_pickup_datetime'])"
   ]
  },
  {
   "cell_type": "code",
   "execution_count": null,
   "metadata": {},
   "outputs": [],
   "source": [
    "merged.Borough.sum()"
   ]
  },
  {
   "cell_type": "code",
   "execution_count": null,
   "metadata": {},
   "outputs": [],
   "source": [
    "merged.count"
   ]
  },
  {
   "cell_type": "code",
   "execution_count": null,
   "metadata": {},
   "outputs": [],
   "source": [
    "average_number_of_rides"
   ]
  },
  {
   "cell_type": "code",
   "execution_count": null,
   "metadata": {},
   "outputs": [],
   "source": []
  },
  {
   "cell_type": "code",
   "execution_count": null,
   "metadata": {},
   "outputs": [],
   "source": []
  },
  {
   "cell_type": "code",
   "execution_count": null,
   "metadata": {},
   "outputs": [],
   "source": []
  },
  {
   "cell_type": "code",
   "execution_count": null,
   "metadata": {},
   "outputs": [],
   "source": [
    "df_names=['yellow_tripdata_2018-01.csv']#,'yellow_tripdata_2018-02.csv',\n",
    "        #  'yellow_tripdata_2018-03.csv','yellow_tripdata_2018-04.csv',\n",
    "       #  'yellow_tripdata_2018-05.csv','yellow_tripdata_2018-06.csv']\n",
    "taxi_zone_lookup = pd.read_csv('data/taxi_zone_lookup.csv')"
   ]
  },
  {
   "cell_type": "code",
   "execution_count": null,
   "metadata": {},
   "outputs": [],
   "source": [
    "of.su(3,4)"
   ]
  },
  {
   "cell_type": "code",
   "execution_count": null,
   "metadata": {},
   "outputs": [],
   "source": []
  },
  {
   "cell_type": "code",
   "execution_count": null,
   "metadata": {},
   "outputs": [],
   "source": [
    "# loading yellow_tripdata\n",
    "data_frames=[]\n",
    "\n",
    "for i in df_names:\n",
    "    data_frames.append(pd.read_csv('data/'+str(i),usecols=['PULocationID','tpep_pickup_datetime']))"
   ]
  },
  {
   "cell_type": "code",
   "execution_count": null,
   "metadata": {},
   "outputs": [],
   "source": [
    "data_frames[0].shape"
   ]
  },
  {
   "cell_type": "code",
   "execution_count": null,
   "metadata": {},
   "outputs": [],
   "source": []
  },
  {
   "cell_type": "code",
   "execution_count": null,
   "metadata": {},
   "outputs": [],
   "source": []
  },
  {
   "cell_type": "markdown",
   "metadata": {},
   "source": [
    "#data=pd.concat(data_frames)\n",
    "merged = pd.merge(data,taxi_zone_lookup,\n",
    "                      how=\"left\",left_on=\"PULocationID\",right_on=\"LocationID\")"
   ]
  },
  {
   "cell_type": "code",
   "execution_count": null,
   "metadata": {},
   "outputs": [],
   "source": []
  },
  {
   "cell_type": "code",
   "execution_count": null,
   "metadata": {},
   "outputs": [],
   "source": [
    "\n"
   ]
  },
  {
   "cell_type": "code",
   "execution_count": null,
   "metadata": {},
   "outputs": [],
   "source": [
    "gb = df.groupby('ZZ')    \n",
    "[gb.get_group(x) for x in gb.groups]"
   ]
  },
  {
   "cell_type": "code",
   "execution_count": null,
   "metadata": {},
   "outputs": [],
   "source": [
    "Avg # of trips per each day in January per each borough"
   ]
  },
  {
   "cell_type": "code",
   "execution_count": null,
   "metadata": {},
   "outputs": [],
   "source": [
    "np.unique()"
   ]
  },
  {
   "cell_type": "code",
   "execution_count": null,
   "metadata": {},
   "outputs": [],
   "source": []
  },
  {
   "cell_type": "code",
   "execution_count": null,
   "metadata": {},
   "outputs": [],
   "source": [
    "# loading zone_lookup\n",
    "\n",
    "csv_lst = [\"yellow_tripdata_2018-01\",\n",
    "           \"yellow_tripdata_2018-02\",\n",
    "           \"yellow_tripdata_2018-03\",\n",
    "           \"yellow_tripdata_2018-04\",\n",
    "           \"yellow_tripdata_2018-05\",\n",
    "           \"yellow_tripdata_2018-06\"]\n",
    "\n",
    "\n",
    "# for i in range (len(csv_list())):\n",
    "    # ds = pd.read_csv(...)\n",
    "    \n",
    "    \n",
    "    # dataframes = manage the data for the task :\n",
    "        # clean data() -> filter wrong years, wrong month, NaN values\n",
    "    \n",
    "    # work\n",
    "        \n",
    "    \n",
    "taxi_zone_lookup =pd.read_csv('taxi_zone_lookup.csv',sep=',')"
   ]
  },
  {
   "cell_type": "markdown",
   "metadata": {},
   "source": [
    "## January "
   ]
  },
  {
   "cell_type": "code",
   "execution_count": null,
   "metadata": {},
   "outputs": [],
   "source": [
    "yellow_tripdata_january.head()"
   ]
  },
  {
   "cell_type": "code",
   "execution_count": null,
   "metadata": {},
   "outputs": [],
   "source": []
  },
  {
   "cell_type": "code",
   "execution_count": null,
   "metadata": {},
   "outputs": [],
   "source": []
  },
  {
   "cell_type": "code",
   "execution_count": null,
   "metadata": {},
   "outputs": [],
   "source": [
    "# loading yellow_tripdata\n",
    "\n",
    "yellow_tripdata_january=pd.read_csv('yellow_tripdata_2018-01.csv')\n"
   ]
  },
  {
   "cell_type": "markdown",
   "metadata": {},
   "source": [
    "## Descriptive statistics"
   ]
  },
  {
   "cell_type": "code",
   "execution_count": null,
   "metadata": {},
   "outputs": [],
   "source": [
    "# merging the two dataframes\n",
    "\n",
    "merged = pd.merge(yellow_tripdata_january,taxi_zone_lookup,\n",
    "                      how=\"left\",left_on=\"PULocationID\",right_on=\"LocationID\")\n",
    "\n",
    "\n",
    "# compute the duretion for each trip\n",
    "merged['tpep_pickup_datetime']=pd.to_datetime(merged['tpep_pickup_datetime'])\n",
    "merged['tpep_dropoff_datetime']=pd.to_datetime(merged['tpep_dropoff_datetime'])\n",
    "merged['duration'] = merged['tpep_dropoff_datetime'] - merged['tpep_pickup_datetime']\n",
    "\n",
    "\n",
    "merged.drop(['VendorID','DOLocationID','store_and_fwd_flag',\n",
    "             'extra','mta_tax','tip_amount','tolls_amount',\n",
    "             'tpep_dropoff_datetime'],axis=1,inplace=True)\n"
   ]
  },
  {
   "cell_type": "code",
   "execution_count": null,
   "metadata": {},
   "outputs": [],
   "source": []
  },
  {
   "cell_type": "code",
   "execution_count": null,
   "metadata": {},
   "outputs": [],
   "source": []
  },
  {
   "cell_type": "code",
   "execution_count": null,
   "metadata": {},
   "outputs": [],
   "source": []
  },
  {
   "cell_type": "code",
   "execution_count": null,
   "metadata": {},
   "outputs": [],
   "source": [
    "del yellow_tripdata_january"
   ]
  },
  {
   "cell_type": "code",
   "execution_count": null,
   "metadata": {},
   "outputs": [],
   "source": [
    "#merged_jan['RatecodeID']=pd.Series(yellow_tripdata_january['RatecodeID'], dtype='object')"
   ]
  },
  {
   "cell_type": "code",
   "execution_count": null,
   "metadata": {},
   "outputs": [],
   "source": [
    "yellow_tripdata_january.dtypes"
   ]
  },
  {
   "cell_type": "code",
   "execution_count": null,
   "metadata": {},
   "outputs": [],
   "source": [
    "joined_tripdata_january.shape"
   ]
  },
  {
   "cell_type": "code",
   "execution_count": null,
   "metadata": {},
   "outputs": [],
   "source": [
    "joined_tripdata_january.to_csv('farfalla.csv')"
   ]
  }
 ],
 "metadata": {
  "kernelspec": {
   "display_name": "Python 3",
   "language": "python",
   "name": "python3"
  },
  "language_info": {
   "codemirror_mode": {
    "name": "ipython",
    "version": 3
   },
   "file_extension": ".py",
   "mimetype": "text/x-python",
   "name": "python",
   "nbconvert_exporter": "python",
   "pygments_lexer": "ipython3",
   "version": "3.6.5"
  }
 },
 "nbformat": 4,
 "nbformat_minor": 2
}
