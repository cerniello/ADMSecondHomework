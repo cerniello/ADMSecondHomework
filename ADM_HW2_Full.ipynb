{
 "cells": [
  {
   "cell_type": "code",
   "execution_count": null,
   "metadata": {},
   "outputs": [],
   "source": [
    "# libraries \n",
    "import pandas as pd\n",
    "import seaborn as sns\n",
    "import numpy as np\n",
    "import random\n",
    "\n",
    "%matplotlib inline\n",
    "\n",
    "import matplotlib.pyplot as plt\n",
    "\n",
    "import time\n",
    "import functions\n",
    "import json\n",
    "import folium\n",
    "import geojson\n",
    "import geopandas\n",
    "\n",
    "import datetime\n",
    "from scipy.stats import chi2_contingency, ttest_ind ,chisquare, kruskal, pearsonr"
   ]
  },
  {
   "cell_type": "code",
   "execution_count": null,
   "metadata": {},
   "outputs": [],
   "source": [
    "from importlib import reload\n",
    "reload(functions)"
   ]
  },
  {
   "cell_type": "code",
   "execution_count": null,
   "metadata": {},
   "outputs": [],
   "source": [
    "df_names=['data/yellow_tripdata_2018-01.csv','data/yellow_tripdata_2018-02.csv',\n",
    "          'data/yellow_tripdata_2018-03.csv','data/yellow_tripdata_2018-04.csv',\n",
    "         'data/yellow_tripdata_2018-05.csv','data/yellow_tripdata_2018-06.csv']\n",
    "\n",
    "# months to analize \n",
    "months = ['January','February','March','April','May','June']\n",
    "\n",
    "#plots_colors = ['royalblue', 'orange', 'violet', 'crimson', 'darkcyan', 'coral', 'mediumseagreen']\n",
    "\n",
    "# taxi_zone_lookup.csv file\n",
    "taxi_zone_lookup = pd.read_csv('data/taxi_zone_lookup.csv')\n",
    "borough_lst = list(np.unique(taxi_zone_lookup.Borough))\n",
    "borough_lst.pop()"
   ]
  },
  {
   "cell_type": "markdown",
   "metadata": {},
   "source": [
    "## Before starting\n",
    "\n",
    "A brief summary of our situation. \n",
    "\n",
    "The function **stats** shows some informations, inspecting the dataset for every month (''mese'')\n"
   ]
  },
  {
   "cell_type": "code",
   "execution_count": null,
   "metadata": {},
   "outputs": [],
   "source": [
    "#### \"SHORT\" ANALYSIS FUNCTION: SHOWS THE MAIN INFORMATION ABOUT THE CSV FILES\n",
    "functions.stats(df_names)"
   ]
  },
  {
   "cell_type": "markdown",
   "metadata": {},
   "source": [
    "As we can see, there are several odd values. For example every month has some attribute values equal to zero. After identifying the columns that have some problematical values, instead of removing them everytime we load the dataset for each question, we decided to make a function that does an initial cleaning of the dataset. \n",
    "\n",
    "\n",
    "Therefore, the main goal was to eliminate the rows where the *total_amount* values are equal to 0 or the wrong dates from *tpep_pickup_datetime* attribute. \n",
    "\n",
    "\n",
    "We decided to remove these values instead of the others because we think that the total_amount is a better information parameter for an occurred trip. For instance, taximeters can give erroneus values (as fare amount or trip distance equal to zero), but the main reference for a taxi company is the payment.\n",
    "\n",
    "However, this rough clean is not enough. For each tasks we'll need to select the appropriate data. We will specify that step by step."
   ]
  },
  {
   "cell_type": "markdown",
   "metadata": {},
   "source": [
    "## Cleaning the data\n",
    "\n",
    "Creating new csv files with cleaned data and store them in df_names paths"
   ]
  },
  {
   "cell_type": "code",
   "execution_count": null,
   "metadata": {},
   "outputs": [],
   "source": [
    "# Used only once\n",
    "functions.make_new_csv(df_names)# directory path for csv files (dataset from Jan to Jun 2018)\n",
    "\n"
   ]
  },
  {
   "cell_type": "markdown",
   "metadata": {},
   "source": [
    "We found out that one of the fastest way to get data is to extract only the columns that we need from all the csv files, passing to the arg *usecols* of the function *read_csv( )* the list of attributes that we need. \n",
    "\n",
    "So, now that we have cleaned the whole dataframe, in each point of the homework below we keep only the columns that are needed."
   ]
  },
  {
   "cell_type": "markdown",
   "metadata": {},
   "source": [
    "##  RQ1\n",
    "### a) plot the daily average for each month\n",
    "For this task, the only attribute that we need is 'tpep_pickup_datetime'.\n",
    "From borough we decided to eliminate from our analysis the 'Unknown' one. This item could be a confounder due to the unknown properties."
   ]
  },
  {
   "cell_type": "code",
   "execution_count": null,
   "metadata": {},
   "outputs": [],
   "source": [
    "daily_average_lst = functions.compute_daily_average(df_names)\n"
   ]
  },
  {
   "cell_type": "code",
   "execution_count": null,
   "metadata": {},
   "outputs": [],
   "source": [
    "functions.plot_daily_averages(daily_average_lst,months)"
   ]
  },
  {
   "cell_type": "markdown",
   "metadata": {},
   "source": [
    "The graph shows that the highest daily average of trips was in April. And the lowest in January."
   ]
  },
  {
   "cell_type": "markdown",
   "metadata": {},
   "source": [
    "### b) For each borough, plot the daily average for each month\n",
    "\n",
    "We've decided to put the results into a dictionary which has as:\n",
    "    - key = borought\n",
    "    - value = list of the daily average for that specific borough"
   ]
  },
  {
   "cell_type": "code",
   "execution_count": null,
   "metadata": {},
   "outputs": [],
   "source": [
    "# init dictionary of borough's averages\n",
    "borough_averages = {}"
   ]
  },
  {
   "cell_type": "code",
   "execution_count": null,
   "metadata": {},
   "outputs": [],
   "source": [
    "borough_averages = functions.compute_borough_averages(df_names, taxi_zone_lookup)"
   ]
  },
  {
   "cell_type": "code",
   "execution_count": null,
   "metadata": {},
   "outputs": [],
   "source": [
    "for key, lst in borough_averages.items():\n",
    "    print (key, lst)"
   ]
  },
  {
   "cell_type": "code",
   "execution_count": null,
   "metadata": {},
   "outputs": [],
   "source": [
    "functions.plot_boroug_averages(borough_averages, months)"
   ]
  },
  {
   "cell_type": "markdown",
   "metadata": {},
   "source": [
    "The daily average of rides is increasing consistently after February until April in Brooklyn, Manhattan and Queens. About EWR and Ataten Island we should point out that the first is not a real borough but only an airport area. And for the second case we noticed the low number of rides is due to a preferencial usage of another taxi company."
   ]
  },
  {
   "cell_type": "markdown",
   "metadata": {},
   "source": [
    "## RQ2 \n",
    "### a) Plot of passenger count for each daily hours"
   ]
  },
  {
   "cell_type": "code",
   "execution_count": null,
   "metadata": {},
   "outputs": [],
   "source": [
    "df = functions.passengers_NY_all_months(df_names)"
   ]
  },
  {
   "cell_type": "code",
   "execution_count": null,
   "metadata": {},
   "outputs": [],
   "source": [
    "functions.plot_NY_24_hours(df)"
   ]
  },
  {
   "cell_type": "markdown",
   "metadata": {},
   "source": [
    "The plot above shows that there is a variability of taxi usage with a substantial incrementation from 6 am to 6 pm and a conseguential drop during the night hours.\n",
    "From this evidence we decide to create time slots to facilitate the visualisation of taxi usage daily.  "
   ]
  },
  {
   "cell_type": "code",
   "execution_count": null,
   "metadata": {},
   "outputs": [],
   "source": [
    "#functions.time_slots_and_plot(df,plots_colors[6])\n",
    "functions.time_slots_and_plot(df,\"green\")"
   ]
  },
  {
   "cell_type": "markdown",
   "metadata": {},
   "source": [
    "### b) Doing that for each borough"
   ]
  },
  {
   "cell_type": "code",
   "execution_count": null,
   "metadata": {},
   "outputs": [],
   "source": [
    "functions.passengers_for_each_borough (df, borough_lst, taxi_zone_lookup)"
   ]
  },
  {
   "cell_type": "markdown",
   "metadata": {},
   "source": [
    "Different boroughs shows a slight variation on taxi usage during the day. For Bronx and Brooklyn we can notice an opposite trend for the rush hour for taxi usage. "
   ]
  },
  {
   "cell_type": "markdown",
   "metadata": {},
   "source": [
    "## RQ3 Analyzing the trip duration\n",
    "### For this analysis we took under consideration trip duration higher than 120 seconds and lower than 5000 seconds\n"
   ]
  },
  {
   "cell_type": "code",
   "execution_count": null,
   "metadata": {},
   "outputs": [],
   "source": [
    "df = functions.make_duration_df(df_names,taxi_zone_lookup)"
   ]
  },
  {
   "cell_type": "code",
   "execution_count": null,
   "metadata": {},
   "outputs": [],
   "source": [
    "functions.plot_frequencies(df['durations'], 'NYC')"
   ]
  },
  {
   "cell_type": "markdown",
   "metadata": {},
   "source": [
    "We decide to visualize the variation of trip duration by dividing the duration into small intervals. From this plot we can observe that taxies in general are used for preferentially for short periods in general.\n",
    "\n",
    "However when we perform an analysis for each borough separately (plots shows below), we can notice that some distribution moves away from the general trend.\n",
    "\n",
    "Queens for example has a frequency distribution higher for longer trip duration.\n"
   ]
  },
  {
   "cell_type": "code",
   "execution_count": null,
   "metadata": {},
   "outputs": [],
   "source": [
    "functions.Boroughs_durations_freq(df, borough_lst)"
   ]
  },
  {
   "cell_type": "markdown",
   "metadata": {},
   "source": [
    "## RQ4\n",
    "###  a) The number of payments for any possible means"
   ]
  },
  {
   "cell_type": "code",
   "execution_count": null,
   "metadata": {},
   "outputs": [],
   "source": [
    "df,payment_type_lst=functions.payments_per_borough(df_names,taxi_zone_lookup,borough_lst)"
   ]
  },
  {
   "cell_type": "code",
   "execution_count": null,
   "metadata": {},
   "outputs": [],
   "source": [
    "payment_type_all=list(map(int,df.sum().values))\n",
    "for ind in range(len(payment_type_lst)-len(df.columns)):\n",
    "        payment_type_all.append(0)"
   ]
  },
  {
   "cell_type": "code",
   "execution_count": null,
   "metadata": {},
   "outputs": [],
   "source": [
    "functions.payment_types_NYC_plot(payment_type_all,payment_type_lst)"
   ]
  },
  {
   "cell_type": "markdown",
   "metadata": {},
   "source": [
    "When comparing all the boroughs (whole NYC) it can be concluded that the most of the people paid their taxi rides with credit cards, then on the second place cash was one of the most used means of paying after credit card. In addition, there weren't any observations identified as an \"Unknown\" or \"Voided trip\"."
   ]
  },
  {
   "cell_type": "markdown",
   "metadata": {},
   "source": [
    "### Chi-squared test"
   ]
  },
  {
   "cell_type": "code",
   "execution_count": null,
   "metadata": {},
   "outputs": [],
   "source": [
    "%%latex\n",
    "\\[H_0\\text {={\"The method of payment is NOT correlated to the borough\"}}\\]\n",
    "\\[H_1\\text {={\"The method of payment is correlated to the borough\"}}\\]"
   ]
  },
  {
   "cell_type": "code",
   "execution_count": null,
   "metadata": {},
   "outputs": [],
   "source": [
    "chi2, p_value, dof, expected = chi2_contingency(df)"
   ]
  },
  {
   "cell_type": "code",
   "execution_count": null,
   "metadata": {},
   "outputs": [],
   "source": [
    "p_value"
   ]
  },
  {
   "cell_type": "markdown",
   "metadata": {},
   "source": [
    "p_value is smaller than 0.01. Therefore, Null hypothesis can be rejected. \n",
    "And we can conclude that =>{\"The method of payment is correlated to the borough\"}. In other word there is a statistically significant correlation between method of payment and borough."
   ]
  },
  {
   "cell_type": "markdown",
   "metadata": {},
   "source": [
    "### b) The way payments are executed in each borough "
   ]
  },
  {
   "cell_type": "code",
   "execution_count": null,
   "metadata": {},
   "outputs": [],
   "source": [
    "functions.payment_type_per_borough_plot(df,payment_type_lst)"
   ]
  },
  {
   "cell_type": "markdown",
   "metadata": {},
   "source": [
    "When comparing methods of payments in each of the boroughs among each other based on the graphs it can be concluded:\n",
    "That just like in the whole NYC, the most common mean of payment was the credit card, followed by cash.\n",
    "The rides that ended with dispute were rare in all boroughs, as well as the ones that ended with no charge."
   ]
  },
  {
   "cell_type": "markdown",
   "metadata": {},
   "source": [
    "## RQ5\n",
    "### a) The dependence between distance and duration of the trip\n",
    "To analyze this point we first decide to filter our dataset taking under account two parameters:\n",
    "- For Trip duration we took only those values higher than 120 seconds and lowest than 2 hours\n",
    "- For Trip distance we select all values between 1.2 miles and 50 miles"
   ]
  },
  {
   "cell_type": "code",
   "execution_count": null,
   "metadata": {},
   "outputs": [],
   "source": [
    "df = functions.duration_distance_df(df_names)"
   ]
  },
  {
   "cell_type": "code",
   "execution_count": null,
   "metadata": {},
   "outputs": [],
   "source": [
    "df.corr()"
   ]
  },
  {
   "cell_type": "markdown",
   "metadata": {},
   "source": [
    "We obtain a good correlation value for the whole sample"
   ]
  },
  {
   "cell_type": "code",
   "execution_count": null,
   "metadata": {},
   "outputs": [],
   "source": [
    "# sampling 1000 rows\n",
    "temp = df.sample(1000)"
   ]
  },
  {
   "cell_type": "code",
   "execution_count": null,
   "metadata": {},
   "outputs": [],
   "source": [
    "temp.corr()"
   ]
  },
  {
   "cell_type": "code",
   "execution_count": null,
   "metadata": {},
   "outputs": [],
   "source": [
    "# plotting the sample\n",
    "temp.plot(y='trip_duration', x = 'trip_distance', kind = 'scatter')"
   ]
  },
  {
   "cell_type": "code",
   "execution_count": null,
   "metadata": {},
   "outputs": [],
   "source": [
    "corr, p_value = pearsonr(temp['trip_duration'],temp['trip_distance'])\n",
    "print('corr: %0.3f' %corr, \"p_value:\", p_value)"
   ]
  },
  {
   "cell_type": "code",
   "execution_count": null,
   "metadata": {},
   "outputs": [],
   "source": [
    "functions.plot_duration_distance_freq(temp)"
   ]
  },
  {
   "cell_type": "markdown",
   "metadata": {},
   "source": [
    "# CQ1"
   ]
  },
  {
   "cell_type": "code",
   "execution_count": null,
   "metadata": {},
   "outputs": [],
   "source": [
    "df = functions.make_df_price_per_mile(df_names, taxi_zone_lookup)"
   ]
  },
  {
   "cell_type": "code",
   "execution_count": null,
   "metadata": {},
   "outputs": [],
   "source": [
    "# making a boro_dict with all borought in a datafram\n",
    "boro_dict = functions.make_boro_dict(df,borough_lst)"
   ]
  },
  {
   "cell_type": "markdown",
   "metadata": {},
   "source": [
    "### compute the mean and the standard deviation"
   ]
  },
  {
   "cell_type": "code",
   "execution_count": null,
   "metadata": {},
   "outputs": [],
   "source": [
    "# mean and std table for each borough\n",
    "mean_std_table = functions.mean_std_table(boro_dict,borough_lst, 'price_per_mile')\n",
    "mean_std_table"
   ]
  },
  {
   "cell_type": "code",
   "execution_count": null,
   "metadata": {},
   "outputs": [],
   "source": [
    "# plot the price_per_mile for each borough\n",
    "functions.plot_price_per_mile(boro_dict,borough_lst)"
   ]
  },
  {
   "cell_type": "markdown",
   "metadata": {},
   "source": [
    "Run the mean and the standard deviation of the new variable for each borough. Then plot the distribution. What do you see?"
   ]
  },
  {
   "cell_type": "markdown",
   "metadata": {},
   "source": [
    "### Run the t-test among all the possible pairs of distribution of different boroughs"
   ]
  },
  {
   "cell_type": "markdown",
   "metadata": {},
   "source": [
    "- **H0 : mean of the independent sample are different**\n",
    "- **H1: mean of the independent sample are equal**"
   ]
  },
  {
   "cell_type": "code",
   "execution_count": null,
   "metadata": {},
   "outputs": [],
   "source": [
    "#p value table for price_per_mile\n",
    "functions.p_value_table(boro_dict, borough_lst, 'price_per_mile')"
   ]
  },
  {
   "cell_type": "markdown",
   "metadata": {},
   "source": [
    "### P' = P/T"
   ]
  },
  {
   "cell_type": "code",
   "execution_count": null,
   "metadata": {},
   "outputs": [],
   "source": [
    "# Create a new colum P1 = P/T\n",
    "df['p1'] = df['price_per_mile'] / df['trip_duration']"
   ]
  },
  {
   "cell_type": "code",
   "execution_count": null,
   "metadata": {},
   "outputs": [],
   "source": [
    "# reload borough\n",
    "boro_dict = functions.make_boro_dict(df, borough_lst)"
   ]
  },
  {
   "cell_type": "code",
   "execution_count": null,
   "metadata": {},
   "outputs": [],
   "source": [
    "#mean and std\n",
    "functions.mean_std_table(boro_dict,borough_lst, 'p1')"
   ]
  },
  {
   "cell_type": "code",
   "execution_count": null,
   "metadata": {},
   "outputs": [],
   "source": [
    "#plot p1 for each borough\n",
    "functions.plot_p1 (boro_dict, borough_lst)"
   ]
  },
  {
   "cell_type": "code",
   "execution_count": null,
   "metadata": {},
   "outputs": [],
   "source": [
    "# make p_value_table\n",
    "functions.p_value_table(boro_dict,borough_lst,'p1')"
   ]
  },
  {
   "cell_type": "markdown",
   "metadata": {},
   "source": [
    "# CQ2"
   ]
  },
  {
   "cell_type": "code",
   "execution_count": null,
   "metadata": {},
   "outputs": [],
   "source": [
    "maps=functions.pickup_and_dropoff_maps(df_names,taxi_zone_lookup, 'taxi_zones.json')"
   ]
  },
  {
   "cell_type": "code",
   "execution_count": null,
   "metadata": {},
   "outputs": [],
   "source": [
    "maps[0]\n"
   ]
  },
  {
   "cell_type": "code",
   "execution_count": null,
   "metadata": {},
   "outputs": [],
   "source": [
    "maps[1]"
   ]
  },
  {
   "cell_type": "code",
   "execution_count": null,
   "metadata": {},
   "outputs": [],
   "source": []
  }
 ],
 "metadata": {
  "kernelspec": {
   "display_name": "Python 3",
   "language": "python",
   "name": "python3"
  },
  "language_info": {
   "codemirror_mode": {
    "name": "ipython",
    "version": 3
   },
   "file_extension": ".py",
   "mimetype": "text/x-python",
   "name": "python",
   "nbconvert_exporter": "python",
   "pygments_lexer": "ipython3",
   "version": "3.5.6"
  }
 },
 "nbformat": 4,
 "nbformat_minor": 2
}
