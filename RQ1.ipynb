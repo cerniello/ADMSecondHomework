{
 "cells": [
  {
   "cell_type": "code",
   "execution_count": 1,
   "metadata": {},
   "outputs": [],
   "source": [
    "import pandas as pd\n",
    "import seaborn as sns\n",
    "import numpy as np\n",
    "import random\n",
    "\n",
    "%matplotlib inline\n",
    "\n",
    "import matplotlib.pyplot as plt\n",
    "\n",
    "import time\n",
    "import functions\n",
    "import datetime"
   ]
  },
  {
   "cell_type": "markdown",
   "metadata": {},
   "source": [
    "# RQ1 \n",
    "\n",
    "1) Plot the daily average for each month\n",
    "\n",
    "    first of all:\n",
    "    - understand data => what should we remove?\n",
    "        - I think data which has different months/years\n",
    "        \n",
    "    "
   ]
  },
  {
   "cell_type": "markdown",
   "metadata": {},
   "source": [
    "## notes and comments:\n",
    "\n",
    "For this task, we didn't take in consider to get a smaller random sample from the csv files.\n",
    "\n",
    "We found that one of the fastest way to get data is to extract from all the csv files only the columns that we need.\n",
    "\n",
    "So we took only the columns that we needed, and than we filtered them by some criteria:\n",
    "\n",
    "    - bla bla bla\n",
    "    - bla bla bla\n"
   ]
  },
  {
   "cell_type": "code",
   "execution_count": 4,
   "metadata": {},
   "outputs": [],
   "source": [
    "# directory path for csv files (dataset from Jan to Jun 2018)\n",
    "df_names=['data/yellow_tripdata_2018-01.csv','data/yellow_tripdata_2018-02.csv',\n",
    "          'data/yellow_tripdata_2018-03.csv','data/yellow_tripdata_2018-04.csv',\n",
    "         'data/yellow_tripdata_2018-05.csv','data/yellow_tripdata_2018-06.csv']\n",
    "\n",
    "# taxi_zone_lookup.csv file\n",
    "taxi_zone_lookup = pd.read_csv('data/taxi_zone_lookup.csv')"
   ]
  },
  {
   "cell_type": "markdown",
   "metadata": {},
   "source": [
    "### Before starting\n",
    "\n",
    "A summary of our situation. \n",
    "\n",
    "The **function below** shows some informations.\n",
    "\n",
    "After seeing this summary I decided to drop out only the values with different dates and "
   ]
  },
  {
   "cell_type": "code",
   "execution_count": null,
   "metadata": {},
   "outputs": [],
   "source": [
    "#### \"SHORT\" ANALYSIS FUNCTION: SHOWS THE MAIN INFORMATIONS ABOUT THE CSV FILES\n",
    "start = time.time()\n",
    "for i in range(len(df_names)):\n",
    "    \n",
    "    df= pd.read_csv(df_names[i], parse_dates= [\"tpep_pickup_datetime\"])\n",
    "    \n",
    "    \n",
    "    print (\"mese %s\" %str(i+1))\n",
    "    print (\"\\tpayment_types     :\",\n",
    "           \"[1:\", str(df[df[\"payment_type\"]== 1].shape[0]) + \"]\", \"[2:\", str(df[df[\"payment_type\"]== 2].shape[0]) + \"]\",\n",
    "           \"[3:\", str(df[df[\"payment_type\"]== 3].shape[0]) + \"]\", \"[4:\", str(df[df[\"payment_type\"]== 4].shape[0]) + \"]\",\n",
    "           \"[5:\", str(df[df[\"payment_type\"]== 5].shape[0]) + \"]\", \"[6:\", str(df[df[\"payment_type\"]== 6].shape[0]) + \"]\"\n",
    "          )\n",
    "    \n",
    "    \n",
    "    \n",
    "    print(\"\\ttotal_amount == 0 : %i\" %df[df[\"total_amount\"] == 0].shape[0])\n",
    "    print (\"\\tfare_amount == 0  :\",df[df[\"fare_amount\"]== 0].shape[0])\n",
    "    print(\"\\ttrip_distance == 0:\",df[df[\"trip_distance\"]== 0].shape[0])\n",
    "    \n",
    "    print(\"\\tfare_amount == 0 and total_amount == 0 -->\",\n",
    "          df[(df[\"total_amount\"] ==0) & (df[\"fare_amount\"]==0)].shape[0])\n",
    "    \n",
    "    print(\"\\tfare_amount == 0 or total_amount == 0 -->\",\n",
    "          df[(df[\"fare_amount\"]==0) | (df[\"total_amount\"] ==0)].shape[0])\n",
    "    \n",
    "    print(\"\\tboth year and month different -->\",\n",
    "          df[(df['tpep_pickup_datetime'].dt.year != 2018) | (df['tpep_pickup_datetime'].dt.month != i+1)].shape[0] )\n",
    "    \n",
    "print(\"\\n ----------> exec time: \" + str(time.time()-start) + \" s --------\")"
   ]
  },
  {
   "cell_type": "markdown",
   "metadata": {},
   "source": [
    "##  1.a) plot the daily average for each month"
   ]
  },
  {
   "cell_type": "code",
   "execution_count": 80,
   "metadata": {},
   "outputs": [
    {
     "name": "stdout",
     "output_type": "stream",
     "text": [
      "--- 110.40319895744324 seconds ---\n"
     ]
    }
   ],
   "source": [
    "import time\n",
    "\n",
    "start_time = time.time()\n",
    "daily_average_lst = functions.compute_daily_average(df_names)\n",
    "print(\"--- %s seconds ---\" % (time.time() - start_time))\n",
    "\n"
   ]
  },
  {
   "cell_type": "code",
   "execution_count": 68,
   "metadata": {},
   "outputs": [
    {
     "data": {
      "text/plain": [
       "[282393, 303065, 303950, 309963, 297330, 290212]"
      ]
     },
     "execution_count": 68,
     "metadata": {},
     "output_type": "execute_result"
    }
   ],
   "source": [
    "daily_average_lst"
   ]
  },
  {
   "cell_type": "code",
   "execution_count": 82,
   "metadata": {},
   "outputs": [
    {
     "data": {
      "text/plain": [
       "[<matplotlib.lines.Line2D at 0x1a3ff5ed68>]"
      ]
     },
     "execution_count": 82,
     "metadata": {},
     "output_type": "execute_result"
    },
    {
     "data": {
      "image/png": "[encoded data removed]",
      "text/plain": [
       "<Figure size 432x288 with 1 Axes>"
      ]
     },
     "metadata": {},
     "output_type": "display_data"
    }
   ],
   "source": [
    "# plot daily_average_lst\n",
    "months = ['January','February','March','April','May','June']\n",
    "plt.xticks(range(1,7),months)\n",
    "plt.ylabel(\"daily_average\")\n",
    "plt.plot(range(1,7), daily_average_lst, 'go')"
   ]
  },
  {
   "cell_type": "markdown",
   "metadata": {},
   "source": [
    "## 1.b) For each borough, plot the daily average for each month\n",
    "\n",
    "We've decided to put the results into a dictionary:\n",
    "    - keys  = borought\n",
    "    - value = list of the daily average for that specific borough"
   ]
  },
  {
   "cell_type": "code",
   "execution_count": 10,
   "metadata": {},
   "outputs": [],
   "source": [
    "# init dictionary of borough's averages\n",
    "borough_averages = {}"
   ]
  },
  {
   "cell_type": "code",
   "execution_count": 13,
   "metadata": {},
   "outputs": [
    {
     "name": "stdout",
     "output_type": "stream",
     "text": [
      "----> 127.3176782131195\n"
     ]
    }
   ],
   "source": [
    "start = time.time()\n",
    "borough_averages = functions.compute_borough_averages(df_names, taxi_zone_lookup)\n",
    "print (\"---->\", time.time() - start )"
   ]
  },
  {
   "cell_type": "code",
   "execution_count": 16,
   "metadata": {},
   "outputs": [
    {
     "name": "stdout",
     "output_type": "stream",
     "text": [
      "Bronx [237, 233, 331, 346, 349, 339]\n",
      "Brooklyn [3229, 3391, 3960, 3963, 3956, 4092]\n",
      "EWR [18, 17, 21, 23, 23, 22]\n",
      "Manhattan [256831, 277264, 276223, 280803, 269202, 262453]\n",
      "Queens [16961, 17262, 18178, 19838, 19660, 19110]\n",
      "Staten Island [4, 3, 4, 4, 4, 4]\n",
      "Unknown [5111, 4891, 5231, 4983, 4133, 4190]\n"
     ]
    }
   ],
   "source": [
    "for key in borough_averages:\n",
    "    print (key, borough_averages[key])"
   ]
  },
  {
   "cell_type": "code",
   "execution_count": null,
   "metadata": {},
   "outputs": [],
   "source": []
  }
 ],
 "metadata": {
  "kernelspec": {
   "display_name": "Python 3",
   "language": "python",
   "name": "python3"
  },
  "language_info": {
   "codemirror_mode": {
    "name": "ipython",
    "version": 3
   },
   "file_extension": ".py",
   "mimetype": "text/x-python",
   "name": "python",
   "nbconvert_exporter": "python",
   "pygments_lexer": "ipython3",
   "version": "3.6.5"
  }
 },
 "nbformat": 4,
 "nbformat_minor": 2
}
